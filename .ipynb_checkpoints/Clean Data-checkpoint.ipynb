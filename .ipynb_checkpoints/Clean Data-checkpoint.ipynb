{
 "cells": [
  {
   "cell_type": "markdown",
   "id": "065b08cd",
   "metadata": {},
   "source": [
    "# Clean Data"
   ]
  },
  {
   "cell_type": "markdown",
   "id": "50ba933f",
   "metadata": {},
   "source": [
    "#### Imports"
   ]
  },
  {
   "cell_type": "code",
   "execution_count": 1,
   "id": "44f7d9ff",
   "metadata": {},
   "outputs": [],
   "source": [
    "# Import pandas and numpy\n",
    "import pandas as pd\n",
    "import numpy as np\n"
   ]
  },
  {
   "cell_type": "markdown",
   "id": "499681ef",
   "metadata": {},
   "source": [
    "#### Get csv file"
   ]
  },
  {
   "cell_type": "code",
   "execution_count": 2,
   "id": "719ebce3",
   "metadata": {},
   "outputs": [],
   "source": [
    "# Import the csv module\n",
    "import csv\n",
    "\n",
    "# Import and read the file with a with statement\n",
    "with open('games.csv', 'r') as file:\n",
    "    reader = csv.reader(file)\n",
    "\n",
    "df = pd.read_csv('games.csv')"
   ]
  },
  {
   "cell_type": "code",
   "execution_count": 3,
   "id": "c260173b",
   "metadata": {},
   "outputs": [],
   "source": [
    "# Drop Columns\n",
    "df = df.drop(['Unnamed: 10'], axis=1)\n",
    "df = df.drop(['metacritic'], axis=1)\n"
   ]
  },
  {
   "cell_type": "code",
   "execution_count": 4,
   "id": "1b5e2d0f",
   "metadata": {},
   "outputs": [],
   "source": [
    "# Split the tags column by spaces\n",
    "df['tags'] = df['tags'].str.split('-')\n",
    "\n",
    "\n",
    "# Split the tags column by spaces\n",
    "df['genre'] = df['genre'].str.split('-')\n",
    "\n",
    "\n",
    "df = df.explode(['genre'])\n",
    "df = df.explode(['tags'])\n"
   ]
  },
  {
   "cell_type": "code",
   "execution_count": 8,
   "id": "c6cc5248",
   "metadata": {},
   "outputs": [],
   "source": [
    "df ['genre'] = df ['genre'].apply(\n",
    "    lambda x: [] if isinstance (x, float) else x) \n",
    "\n",
    "df ['tags'] = df ['tags'].apply(\n",
    "    lambda x: [] if isinstance (x, float) else x) \n",
    "\n",
    "df['genre'] = df['genre'].apply(tuple) \n",
    "df['tags'] = df['tags'].apply(tuple)"
   ]
  },
  {
   "cell_type": "code",
   "execution_count": 12,
   "id": "877933c6",
   "metadata": {},
   "outputs": [],
   "source": [
    "xd = df.assign (\n",
    "    genre=df ['genre'].str.split ('-'),\n",
    "    tags=df ['tags'].str.split ('-')\n",
    ").explode ( ['genre', 'tags'])"
   ]
  },
  {
   "cell_type": "code",
   "execution_count": 7,
   "id": "6ec7b66f",
   "metadata": {},
   "outputs": [
    {
     "ename": "KeyError",
     "evalue": "'tags_zoo'",
     "output_type": "error",
     "traceback": [
      "\u001b[1;31m---------------------------------------------------------------------------\u001b[0m",
      "\u001b[1;31mKeyError\u001b[0m                                  Traceback (most recent call last)",
      "File \u001b[1;32m~\\anaconda3\\lib\\site-packages\\pandas\\core\\indexes\\base.py:3652\u001b[0m, in \u001b[0;36mIndex.get_loc\u001b[1;34m(self, key)\u001b[0m\n\u001b[0;32m   3651\u001b[0m \u001b[38;5;28;01mtry\u001b[39;00m:\n\u001b[1;32m-> 3652\u001b[0m     \u001b[38;5;28;01mreturn\u001b[39;00m \u001b[38;5;28;43mself\u001b[39;49m\u001b[38;5;241;43m.\u001b[39;49m\u001b[43m_engine\u001b[49m\u001b[38;5;241;43m.\u001b[39;49m\u001b[43mget_loc\u001b[49m\u001b[43m(\u001b[49m\u001b[43mcasted_key\u001b[49m\u001b[43m)\u001b[49m\n\u001b[0;32m   3653\u001b[0m \u001b[38;5;28;01mexcept\u001b[39;00m \u001b[38;5;167;01mKeyError\u001b[39;00m \u001b[38;5;28;01mas\u001b[39;00m err:\n",
      "File \u001b[1;32m~\\anaconda3\\lib\\site-packages\\pandas\\_libs\\index.pyx:147\u001b[0m, in \u001b[0;36mpandas._libs.index.IndexEngine.get_loc\u001b[1;34m()\u001b[0m\n",
      "File \u001b[1;32m~\\anaconda3\\lib\\site-packages\\pandas\\_libs\\index.pyx:176\u001b[0m, in \u001b[0;36mpandas._libs.index.IndexEngine.get_loc\u001b[1;34m()\u001b[0m\n",
      "File \u001b[1;32mpandas\\_libs\\hashtable_class_helper.pxi:7080\u001b[0m, in \u001b[0;36mpandas._libs.hashtable.PyObjectHashTable.get_item\u001b[1;34m()\u001b[0m\n",
      "File \u001b[1;32mpandas\\_libs\\hashtable_class_helper.pxi:7088\u001b[0m, in \u001b[0;36mpandas._libs.hashtable.PyObjectHashTable.get_item\u001b[1;34m()\u001b[0m\n",
      "\u001b[1;31mKeyError\u001b[0m: 'tags_zoo'",
      "\nThe above exception was the direct cause of the following exception:\n",
      "\u001b[1;31mKeyError\u001b[0m                                  Traceback (most recent call last)",
      "Cell \u001b[1;32mIn[7], line 2\u001b[0m\n\u001b[0;32m      1\u001b[0m \u001b[38;5;66;03m# Drop non-english tag\u001b[39;00m\n\u001b[1;32m----> 2\u001b[0m columns_to_drop \u001b[38;5;241m=\u001b[39m \u001b[38;5;28mlist\u001b[39m(df\u001b[38;5;241m.\u001b[39mcolumns[\u001b[43mdf\u001b[49m\u001b[38;5;241;43m.\u001b[39;49m\u001b[43mcolumns\u001b[49m\u001b[38;5;241;43m.\u001b[39;49m\u001b[43mget_loc\u001b[49m\u001b[43m(\u001b[49m\u001b[38;5;124;43m'\u001b[39;49m\u001b[38;5;124;43mtags_zoo\u001b[39;49m\u001b[38;5;124;43m'\u001b[39;49m\u001b[43m)\u001b[49m\u001b[38;5;241m+\u001b[39m\u001b[38;5;241m1\u001b[39m:])\n\u001b[0;32m      3\u001b[0m df \u001b[38;5;241m=\u001b[39m df\u001b[38;5;241m.\u001b[39mdrop(columns_to_drop, axis\u001b[38;5;241m=\u001b[39m\u001b[38;5;241m1\u001b[39m)\n\u001b[0;32m      4\u001b[0m \u001b[38;5;28mprint\u001b[39m(df\u001b[38;5;241m.\u001b[39mshape)\n",
      "File \u001b[1;32m~\\anaconda3\\lib\\site-packages\\pandas\\core\\indexes\\base.py:3654\u001b[0m, in \u001b[0;36mIndex.get_loc\u001b[1;34m(self, key)\u001b[0m\n\u001b[0;32m   3652\u001b[0m     \u001b[38;5;28;01mreturn\u001b[39;00m \u001b[38;5;28mself\u001b[39m\u001b[38;5;241m.\u001b[39m_engine\u001b[38;5;241m.\u001b[39mget_loc(casted_key)\n\u001b[0;32m   3653\u001b[0m \u001b[38;5;28;01mexcept\u001b[39;00m \u001b[38;5;167;01mKeyError\u001b[39;00m \u001b[38;5;28;01mas\u001b[39;00m err:\n\u001b[1;32m-> 3654\u001b[0m     \u001b[38;5;28;01mraise\u001b[39;00m \u001b[38;5;167;01mKeyError\u001b[39;00m(key) \u001b[38;5;28;01mfrom\u001b[39;00m \u001b[38;5;21;01merr\u001b[39;00m\n\u001b[0;32m   3655\u001b[0m \u001b[38;5;28;01mexcept\u001b[39;00m \u001b[38;5;167;01mTypeError\u001b[39;00m:\n\u001b[0;32m   3656\u001b[0m     \u001b[38;5;66;03m# If we have a listlike key, _check_indexing_error will raise\u001b[39;00m\n\u001b[0;32m   3657\u001b[0m     \u001b[38;5;66;03m#  InvalidIndexError. Otherwise we fall through and re-raise\u001b[39;00m\n\u001b[0;32m   3658\u001b[0m     \u001b[38;5;66;03m#  the TypeError.\u001b[39;00m\n\u001b[0;32m   3659\u001b[0m     \u001b[38;5;28mself\u001b[39m\u001b[38;5;241m.\u001b[39m_check_indexing_error(key)\n",
      "\u001b[1;31mKeyError\u001b[0m: 'tags_zoo'"
     ]
    }
   ],
   "source": [
    "# Drop non-english tag\n",
    "columns_to_drop = list(df.columns[df.columns.get_loc('tags_zoo')+1:])\n",
    "df = df.drop(columns_to_drop, axis=1)\n",
    "print(df.shape)"
   ]
  },
  {
   "cell_type": "code",
   "execution_count": 5,
   "id": "6df2547e",
   "metadata": {},
   "outputs": [
    {
     "name": "stdout",
     "output_type": "stream",
     "text": [
      "Index(['id', 'name', 'released', 'rating', 'platforms', 'series', 'playtime',\n",
      "       'genre_Action', 'genre_Adventure', 'genre_Arcade',\n",
      "       ...\n",
      "       'tags_xna', 'tags_yono', 'tags_your', 'tags_youtube', 'tags_zach',\n",
      "       'tags_zachlike', 'tags_zachtronics', 'tags_zelda', 'tags_zen',\n",
      "       'tags_zoo'],\n",
      "      dtype='object', length=1921)\n"
     ]
    }
   ],
   "source": [
    "def combine_tags(x): \n",
    "    if 'Dark Humor' in x: \n",
    "        return 'tags_Dark Comedy' \n",
    "    else: \n",
    "        return x\n",
    "    \n",
    "df.columns = df.columns.to_series().apply(combine_tags)\n",
    "\n",
    "print(df.columns)"
   ]
  },
  {
   "cell_type": "code",
   "execution_count": 6,
   "id": "81c5f457",
   "metadata": {},
   "outputs": [
    {
     "name": "stdout",
     "output_type": "stream",
     "text": [
      "Index(['id', 'name', 'released', 'rating', 'platforms', 'series', 'playtime',\n",
      "       'genre_Action', 'genre_Adventure', 'genre_Arcade',\n",
      "       ...\n",
      "       'tags_xna', 'tags_yono', 'tags_your', 'tags_youtube', 'tags_zach',\n",
      "       'tags_zachlike', 'tags_zachtronics', 'tags_zelda', 'tags_zen',\n",
      "       'tags_zoo'],\n",
      "      dtype='object', length=1921)\n"
     ]
    }
   ],
   "source": [
    "def combine_tags(x): \n",
    "    if 'Ludum Dare' in x: \n",
    "        return 'tags_Ludum_Dare' \n",
    "    else: \n",
    "        return x\n",
    "    \n",
    "df.columns = df.columns.to_series().apply(combine_tags)\n",
    "\n",
    "print(df.columns)"
   ]
  },
  {
   "cell_type": "code",
   "execution_count": 7,
   "id": "d60928fc",
   "metadata": {},
   "outputs": [],
   "source": [
    "df.columns = df.columns.str.lower()"
   ]
  },
  {
   "cell_type": "code",
   "execution_count": 11,
   "id": "9d1cdce3",
   "metadata": {},
   "outputs": [],
   "source": [
    "df.dtypes.to_csv('data_types.csv', header=False)"
   ]
  },
  {
   "cell_type": "code",
   "execution_count": 9,
   "id": "cc869b4e",
   "metadata": {},
   "outputs": [],
   "source": [
    "df['rating'].isna().sum()"
   ]
  },
  {
   "cell_type": "code",
   "execution_count": 10,
   "id": "b0349f2a",
   "metadata": {},
   "outputs": [],
   "source": [
    "df['rating'] = (df['rating'] - df['rating'].mean())/df['rating'].std()"
   ]
  },
  {
   "cell_type": "code",
   "execution_count": 12,
   "id": "44dcd216",
   "metadata": {},
   "outputs": [
    {
     "name": "stdout",
     "output_type": "stream",
     "text": [
      "0      -0.215637\n",
      "0      -0.215637\n",
      "0      -0.215637\n",
      "0      -0.215637\n",
      "0      -0.215637\n",
      "          ...   \n",
      "9959   -0.455764\n",
      "9959   -0.455764\n",
      "9959   -0.455764\n",
      "9959   -0.455764\n",
      "9959   -0.455764\n",
      "Name: playtime, Length: 348357, dtype: float64\n"
     ]
    }
   ],
   "source": [
    "df['playtime'] = (df['playtime'] - df['playtime'].mean())/df['playtime'].std()\n",
    "print(df['playtime'])"
   ]
  },
  {
   "cell_type": "code",
   "execution_count": 13,
   "id": "849da582",
   "metadata": {},
   "outputs": [
    {
     "data": {
      "text/plain": [
       "count    3.483570e+05\n",
       "mean    -1.958109e-18\n",
       "std      1.000000e+00\n",
       "min     -4.557644e-01\n",
       "25%     -3.357008e-01\n",
       "50%     -9.557364e-02\n",
       "75%      2.448993e-02\n",
       "max      1.076014e+02\n",
       "Name: playtime, dtype: float64"
      ]
     },
     "execution_count": 13,
     "metadata": {},
     "output_type": "execute_result"
    }
   ],
   "source": [
    "df['playtime'].describe()"
   ]
  },
  {
   "cell_type": "code",
   "execution_count": 18,
   "id": "60af51ff",
   "metadata": {},
   "outputs": [
    {
     "data": {
      "text/html": [
       "<div>\n",
       "<style scoped>\n",
       "    .dataframe tbody tr th:only-of-type {\n",
       "        vertical-align: middle;\n",
       "    }\n",
       "\n",
       "    .dataframe tbody tr th {\n",
       "        vertical-align: top;\n",
       "    }\n",
       "\n",
       "    .dataframe thead th {\n",
       "        text-align: right;\n",
       "    }\n",
       "</style>\n",
       "<table border=\"1\" class=\"dataframe\">\n",
       "  <thead>\n",
       "    <tr style=\"text-align: right;\">\n",
       "      <th></th>\n",
       "      <th>id</th>\n",
       "      <th>name</th>\n",
       "      <th>released</th>\n",
       "      <th>rating</th>\n",
       "      <th>platforms</th>\n",
       "      <th>series</th>\n",
       "      <th>playtime</th>\n",
       "      <th>genre_action</th>\n",
       "      <th>genre_adventure</th>\n",
       "      <th>genre_arcade</th>\n",
       "      <th>...</th>\n",
       "      <th>tags_xna</th>\n",
       "      <th>tags_yono</th>\n",
       "      <th>tags_your</th>\n",
       "      <th>tags_youtube</th>\n",
       "      <th>tags_zach</th>\n",
       "      <th>tags_zachlike</th>\n",
       "      <th>tags_zachtronics</th>\n",
       "      <th>tags_zelda</th>\n",
       "      <th>tags_zen</th>\n",
       "      <th>tags_zoo</th>\n",
       "    </tr>\n",
       "  </thead>\n",
       "  <tbody>\n",
       "    <tr>\n",
       "      <th>0</th>\n",
       "      <td>12341.0</td>\n",
       "      <td>King Arthur's Gold</td>\n",
       "      <td>2013-11-04</td>\n",
       "      <td>-0.09007</td>\n",
       "      <td>macOS-PC-Linux</td>\n",
       "      <td>Unnamed: 5</td>\n",
       "      <td>-0.215637</td>\n",
       "      <td>True</td>\n",
       "      <td>False</td>\n",
       "      <td>False</td>\n",
       "      <td>...</td>\n",
       "      <td>False</td>\n",
       "      <td>False</td>\n",
       "      <td>False</td>\n",
       "      <td>False</td>\n",
       "      <td>False</td>\n",
       "      <td>False</td>\n",
       "      <td>False</td>\n",
       "      <td>False</td>\n",
       "      <td>False</td>\n",
       "      <td>False</td>\n",
       "    </tr>\n",
       "    <tr>\n",
       "      <th>0</th>\n",
       "      <td>12341.0</td>\n",
       "      <td>King Arthur's Gold</td>\n",
       "      <td>2013-11-04</td>\n",
       "      <td>-0.09007</td>\n",
       "      <td>macOS-PC-Linux</td>\n",
       "      <td>Unnamed: 5</td>\n",
       "      <td>-0.215637</td>\n",
       "      <td>False</td>\n",
       "      <td>False</td>\n",
       "      <td>False</td>\n",
       "      <td>...</td>\n",
       "      <td>False</td>\n",
       "      <td>False</td>\n",
       "      <td>False</td>\n",
       "      <td>False</td>\n",
       "      <td>False</td>\n",
       "      <td>False</td>\n",
       "      <td>False</td>\n",
       "      <td>False</td>\n",
       "      <td>False</td>\n",
       "      <td>False</td>\n",
       "    </tr>\n",
       "    <tr>\n",
       "      <th>0</th>\n",
       "      <td>12341.0</td>\n",
       "      <td>King Arthur's Gold</td>\n",
       "      <td>2013-11-04</td>\n",
       "      <td>-0.09007</td>\n",
       "      <td>macOS-PC-Linux</td>\n",
       "      <td>Unnamed: 5</td>\n",
       "      <td>-0.215637</td>\n",
       "      <td>False</td>\n",
       "      <td>False</td>\n",
       "      <td>False</td>\n",
       "      <td>...</td>\n",
       "      <td>False</td>\n",
       "      <td>False</td>\n",
       "      <td>False</td>\n",
       "      <td>False</td>\n",
       "      <td>False</td>\n",
       "      <td>False</td>\n",
       "      <td>False</td>\n",
       "      <td>False</td>\n",
       "      <td>False</td>\n",
       "      <td>False</td>\n",
       "    </tr>\n",
       "    <tr>\n",
       "      <th>0</th>\n",
       "      <td>12341.0</td>\n",
       "      <td>King Arthur's Gold</td>\n",
       "      <td>2013-11-04</td>\n",
       "      <td>-0.09007</td>\n",
       "      <td>macOS-PC-Linux</td>\n",
       "      <td>Unnamed: 5</td>\n",
       "      <td>-0.215637</td>\n",
       "      <td>True</td>\n",
       "      <td>False</td>\n",
       "      <td>False</td>\n",
       "      <td>...</td>\n",
       "      <td>False</td>\n",
       "      <td>False</td>\n",
       "      <td>False</td>\n",
       "      <td>False</td>\n",
       "      <td>False</td>\n",
       "      <td>False</td>\n",
       "      <td>False</td>\n",
       "      <td>False</td>\n",
       "      <td>False</td>\n",
       "      <td>False</td>\n",
       "    </tr>\n",
       "    <tr>\n",
       "      <th>0</th>\n",
       "      <td>12341.0</td>\n",
       "      <td>King Arthur's Gold</td>\n",
       "      <td>2013-11-04</td>\n",
       "      <td>-0.09007</td>\n",
       "      <td>macOS-PC-Linux</td>\n",
       "      <td>Unnamed: 5</td>\n",
       "      <td>-0.215637</td>\n",
       "      <td>False</td>\n",
       "      <td>False</td>\n",
       "      <td>False</td>\n",
       "      <td>...</td>\n",
       "      <td>False</td>\n",
       "      <td>False</td>\n",
       "      <td>False</td>\n",
       "      <td>False</td>\n",
       "      <td>False</td>\n",
       "      <td>False</td>\n",
       "      <td>False</td>\n",
       "      <td>False</td>\n",
       "      <td>False</td>\n",
       "      <td>False</td>\n",
       "    </tr>\n",
       "  </tbody>\n",
       "</table>\n",
       "<p>5 rows × 1921 columns</p>\n",
       "</div>"
      ],
      "text/plain": [
       "        id                name    released   rating       platforms   \n",
       "0  12341.0  King Arthur's Gold  2013-11-04 -0.09007  macOS-PC-Linux  \\\n",
       "0  12341.0  King Arthur's Gold  2013-11-04 -0.09007  macOS-PC-Linux   \n",
       "0  12341.0  King Arthur's Gold  2013-11-04 -0.09007  macOS-PC-Linux   \n",
       "0  12341.0  King Arthur's Gold  2013-11-04 -0.09007  macOS-PC-Linux   \n",
       "0  12341.0  King Arthur's Gold  2013-11-04 -0.09007  macOS-PC-Linux   \n",
       "\n",
       "       series  playtime  genre_action  genre_adventure  genre_arcade  ...   \n",
       "0  Unnamed: 5 -0.215637          True            False         False  ...  \\\n",
       "0  Unnamed: 5 -0.215637         False            False         False  ...   \n",
       "0  Unnamed: 5 -0.215637         False            False         False  ...   \n",
       "0  Unnamed: 5 -0.215637          True            False         False  ...   \n",
       "0  Unnamed: 5 -0.215637         False            False         False  ...   \n",
       "\n",
       "   tags_xna  tags_yono  tags_your  tags_youtube  tags_zach  tags_zachlike   \n",
       "0     False      False      False         False      False          False  \\\n",
       "0     False      False      False         False      False          False   \n",
       "0     False      False      False         False      False          False   \n",
       "0     False      False      False         False      False          False   \n",
       "0     False      False      False         False      False          False   \n",
       "\n",
       "   tags_zachtronics  tags_zelda  tags_zen  tags_zoo  \n",
       "0             False       False     False     False  \n",
       "0             False       False     False     False  \n",
       "0             False       False     False     False  \n",
       "0             False       False     False     False  \n",
       "0             False       False     False     False  \n",
       "\n",
       "[5 rows x 1921 columns]"
      ]
     },
     "execution_count": 18,
     "metadata": {},
     "output_type": "execute_result"
    }
   ],
   "source": [
    "df.head()"
   ]
  },
  {
   "cell_type": "code",
   "execution_count": null,
   "id": "de163491",
   "metadata": {},
   "outputs": [],
   "source": []
  },
  {
   "cell_type": "code",
   "execution_count": null,
   "id": "2f0da079",
   "metadata": {},
   "outputs": [],
   "source": []
  },
  {
   "cell_type": "markdown",
   "id": "cdc4a43b",
   "metadata": {},
   "source": [
    "#### Close file"
   ]
  },
  {
   "cell_type": "code",
   "execution_count": null,
   "id": "fa1c40b8",
   "metadata": {},
   "outputs": [],
   "source": [
    "file.close()"
   ]
  }
 ],
 "metadata": {
  "kernelspec": {
   "display_name": "Python 3 (ipykernel)",
   "language": "python",
   "name": "python3"
  },
  "language_info": {
   "codemirror_mode": {
    "name": "ipython",
    "version": 3
   },
   "file_extension": ".py",
   "mimetype": "text/x-python",
   "name": "python",
   "nbconvert_exporter": "python",
   "pygments_lexer": "ipython3",
   "version": "3.10.9"
  }
 },
 "nbformat": 4,
 "nbformat_minor": 5
}
