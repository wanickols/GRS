{
 "cells": [
  {
   "cell_type": "markdown",
   "id": "404e27a9",
   "metadata": {},
   "source": [
    "# Basic Model Training\n",
    "\n",
    "## Importing"
   ]
  },
  {
   "cell_type": "code",
   "execution_count": 1,
   "id": "f111a8ac",
   "metadata": {},
   "outputs": [],
   "source": [
    "import pandas as pd\n",
    "import numpy as np\n",
    "\n",
    "df = pd.read_csv('clean_data.csv', sep=',')"
   ]
  },
  {
   "cell_type": "markdown",
   "id": "178c4ea9",
   "metadata": {},
   "source": [
    "### Series\n",
    "The series data won't be much use in the wpca if we condense it, so instead we are going to make a dictionary so we can boost the simularity score later"
   ]
  },
  {
   "cell_type": "code",
   "execution_count": 2,
   "id": "539afe00",
   "metadata": {},
   "outputs": [],
   "source": [
    "# Fill the NaN values with an empty list\n",
    "df['series'] = df['series'].fillna(\"\")\n",
    "\n",
    "# Split the series column by '-'\n",
    "df['series'] = df['series'].str.split('-')\n",
    "\n",
    "# Create an empty dictionary\n",
    "series_dict = {}\n",
    "\n",
    "# Loop through the series column\n",
    "for series in df['series']:\n",
    "    # Loop through each game id in the series\n",
    "    for game_id in series:\n",
    "        # Get the other games in the same series\n",
    "        other_games = [x for x in series if x != game_id]\n",
    "        # Add the game id and the other games to the dictionary\n",
    "        series_dict[game_id] = other_games\n",
    "\n",
    "# Print the series dictionary\n",
    "#print(series_dict)"
   ]
  },
  {
   "cell_type": "code",
   "execution_count": 3,
   "id": "6768f42a",
   "metadata": {},
   "outputs": [],
   "source": [
    "# Drop Columns\n",
    "X = df.drop(['name'], axis=1)\n",
    "ids = X['id']\n",
    "X = X.drop(['id'], axis=1)\n",
    "X = X.drop(['series'], axis=1).values\n",
    "y = df['name'].values"
   ]
  },
  {
   "cell_type": "code",
   "execution_count": 4,
   "id": "fab6f8e4",
   "metadata": {},
   "outputs": [
    {
     "data": {
      "text/plain": [
       "array([[0.81193829, 0.59670782, 0.00222222, ..., 0.        , 0.        ,\n",
       "        1.        ],\n",
       "       [0.80950238, 0.91975309, 0.08111111, ..., 0.        , 0.        ,\n",
       "        0.        ],\n",
       "       [0.84033051, 0.95884774, 0.05111111, ..., 0.        , 0.        ,\n",
       "        0.        ],\n",
       "       ...,\n",
       "       [0.72361166, 0.75102881, 0.        , ..., 0.        , 0.        ,\n",
       "        0.        ],\n",
       "       [0.70120042, 0.51646091, 0.00111111, ..., 0.        , 0.        ,\n",
       "        0.        ],\n",
       "       [0.40113113, 0.86831276, 0.        , ..., 0.        , 0.        ,\n",
       "        1.        ]])"
      ]
     },
     "execution_count": 4,
     "metadata": {},
     "output_type": "execute_result"
    }
   ],
   "source": [
    "X"
   ]
  },
  {
   "cell_type": "markdown",
   "id": "b8b3b8a4",
   "metadata": {},
   "source": [
    "## Reducing Dimensionality\n",
    "\n",
    "The current data has way too many columns, and a bunch with 1.0 correlation. We want to simplify the data to make it easier to train and find more relelvant categories. "
   ]
  },
  {
   "cell_type": "code",
   "execution_count": 9,
   "id": "bf5976ff",
   "metadata": {},
   "outputs": [
    {
     "name": "stderr",
     "output_type": "stream",
     "text": [
      "C:\\Users\\andre\\anaconda3\\lib\\site-packages\\trimap\\trimap_.py:747: UserWarning: 'weight_adj' is deprecated and will not be applied. Adjust 'weight_temp' if needed.\n",
      "  warnings.warn(\n"
     ]
    },
    {
     "name": "stdout",
     "output_type": "stream",
     "text": [
      "TRIMAP(n_inliers=10, n_outliers=5, n_random=5, distance=euclidean, weight_temp=0.5, lr=1000.0, n_iters=400, apply_pca=True, opt_method=dbd, verbose=True, return_seq=False)\n",
      "running TriMap on 9804 points with dimension 1992\n",
      "pre-processing\n",
      "applied PCA\n",
      "found nearest neighbors\n",
      "sampled triplets\n",
      "running TriMap with dbd\n",
      "Iteration:  100 /  400, Loss: 0.134, Violated triplets: 4.9579\n",
      "Iteration:  200 /  400, Loss: 0.126, Violated triplets: 4.9931\n",
      "Iteration:  300 /  400, Loss: 0.123, Violated triplets: 5.0657\n",
      "Iteration:  400 /  400, Loss: 0.122, Violated triplets: 5.1474\n",
      "Elapsed time: 0:00:06.374643\n"
     ]
    },
    {
     "ename": "AttributeError",
     "evalue": "'TRIMAP' object has no attribute 'transform'",
     "output_type": "error",
     "traceback": [
      "\u001b[1;31m---------------------------------------------------------------------------\u001b[0m",
      "\u001b[1;31mAttributeError\u001b[0m                            Traceback (most recent call last)",
      "Cell \u001b[1;32mIn[9], line 12\u001b[0m\n\u001b[0;32m      9\u001b[0m columns \u001b[38;5;241m=\u001b[39m [\u001b[38;5;124m'\u001b[39m\u001b[38;5;124mtrimap\u001b[39m\u001b[38;5;124m'\u001b[39m \u001b[38;5;241m+\u001b[39m \u001b[38;5;28mstr\u001b[39m(i) \u001b[38;5;28;01mfor\u001b[39;00m i \u001b[38;5;129;01min\u001b[39;00m \u001b[38;5;28mrange\u001b[39m(\u001b[38;5;241m0\u001b[39m, num_comp)]\n\u001b[0;32m     11\u001b[0m \u001b[38;5;66;03m# Transform features to lower dimensionality\u001b[39;00m\n\u001b[1;32m---> 12\u001b[0m X_trimap \u001b[38;5;241m=\u001b[39m \u001b[43mtrimap\u001b[49m\u001b[38;5;241;43m.\u001b[39;49m\u001b[43mtransform\u001b[49m(X)\n\u001b[0;32m     14\u001b[0m \u001b[38;5;66;03m# Create a dataframe with the transformed features\u001b[39;00m\n\u001b[0;32m     15\u001b[0m X_trimap_df \u001b[38;5;241m=\u001b[39m pd\u001b[38;5;241m.\u001b[39mDataFrame(X_trimap, columns\u001b[38;5;241m=\u001b[39mcolumns)\n",
      "\u001b[1;31mAttributeError\u001b[0m: 'TRIMAP' object has no attribute 'transform'"
     ]
    }
   ],
   "source": [
    "from trimap import TRIMAP\n",
    "\n",
    "num_comp = 2 # You can choose a different number of components for TriMap\n",
    "\n",
    "# Create and fit TriMap with the original features\n",
    "trimap = TRIMAP(n_dims=num_comp, n_inliers=10, n_outliers=5, n_random=5, distance='euclidean', weight_temp=500.0, lr=1000.0, n_iters=400, verbose=True)\n",
    "trimap.fit(X)\n",
    "\n",
    "columns = ['trimap' + str(i) for i in range(0, num_comp)]\n",
    "\n",
    "# Transform features to lower dimensionality\n",
    "X_trimap = trimap.transform(X)\n",
    "\n",
    "# Create a dataframe with the transformed features\n",
    "X_trimap_df = pd.DataFrame(X_trimap, columns=columns)"
   ]
  },
  {
   "cell_type": "code",
   "execution_count": null,
   "id": "ce1ddf91",
   "metadata": {},
   "outputs": [],
   "source": [
    "from wpca import WPCA\n",
    "\n",
    "num_comp = 32\n",
    "\n",
    "# Define feature weights\n",
    "# released, rating, playtime, 19 genres, 1994-24 tags, series dict \n",
    "w = np.array([[.7, .6, 4] + [1] * 19 + [.5] * (1994 - 24)] * 9804)\n",
    "\n",
    "# Create and fit WPCA with feature weights\n",
    "wpca = WPCA(n_components=num_comp)\n",
    "wpca.fit(X, weights=w)\n",
    "\n",
    "columns = ['pca' + str(i) for i in range(0, num_comp)]\n",
    "\n",
    "# Transform features to lower dimensionality\n",
    "X_wpca = wpca.transform(X)\n",
    "\n",
    "# Create a dataframe with the transformed features and the target\n",
    "X_wpca_df = pd.DataFrame(X_wpca, columns=columns)\n"
   ]
  },
  {
   "cell_type": "code",
   "execution_count": 14,
   "id": "3e66841f",
   "metadata": {},
   "outputs": [
    {
     "name": "stdout",
     "output_type": "stream",
     "text": [
      "[0.08034823 0.05336608 0.03936573 0.03032157 0.02865338 0.02679904\n",
      " 0.02131693 0.01947955 0.01910622 0.01708147 0.01378495 0.013499\n",
      " 0.01282992 0.01205059 0.01175677 0.0115811  0.01136731 0.01044218\n",
      " 0.00978947 0.0094734  0.00935663 0.00908754 0.00849713 0.00797058\n",
      " 0.00759595 0.0073008  0.00708377 0.00692518 0.00661844 0.00629393\n",
      " 0.00624454 0.00592846 0.00574219 0.00568674 0.00546639 0.00539125\n",
      " 0.00533596 0.00516247 0.00498238 0.00485034 0.00482227 0.00472267\n",
      " 0.00465786 0.00459959 0.00448281 0.00436273 0.00434273 0.00428767\n",
      " 0.00420638 0.00406887 0.00403946 0.00399563 0.0039396  0.00390266\n",
      " 0.00384317 0.00373528 0.00362599 0.00359996 0.00349504 0.00341716\n",
      " 0.00338099 0.00327909 0.00325617 0.00322249]\n"
     ]
    }
   ],
   "source": [
    "print(wpca.explained_variance_ratio_)"
   ]
  },
  {
   "cell_type": "code",
   "execution_count": null,
   "id": "1895e8c1",
   "metadata": {},
   "outputs": [],
   "source": [
    "from sklearn.metrics.pairwise import cosine_similarity\n",
    "from scipy.spatial.distance import pdist, squareform\n",
    "\n",
    "cosine_sim = cosine_similarity(X_wpca_df, X_wpca_df)\n",
    "euclidean_dist = squareform(pdist(X_wpca_df))"
   ]
  },
  {
   "cell_type": "code",
   "execution_count": null,
   "id": "2da6907d",
   "metadata": {},
   "outputs": [],
   "source": [
    "euclidean_dist"
   ]
  },
  {
   "cell_type": "code",
   "execution_count": null,
   "id": "ec68ac93",
   "metadata": {},
   "outputs": [],
   "source": [
    "cosine_sim"
   ]
  },
  {
   "cell_type": "code",
   "execution_count": 18,
   "id": "7c4cc066",
   "metadata": {},
   "outputs": [],
   "source": [
    "X_wpca_df['name'] = y\n",
    "\n",
    "# Set the name as the index\n",
    "X_wpca_df = X_wpca_df.set_index('name')"
   ]
  },
  {
   "cell_type": "code",
   "execution_count": 19,
   "id": "d554cc67",
   "metadata": {},
   "outputs": [],
   "source": [
    "def get_euclidean_recommendations(title, k):\n",
    "    idx = X_wpca_df.index.get_loc(title)\n",
    "    sim_scores = euclidean_dist[idx]\n",
    "    sim_indices = sim_scores.argsort()[:k]\n",
    "    sim_titles = X_wpca_df.iloc[sim_indices].index\n",
    "    return list(sim_titles)\n",
    "\n",
    "def get_cosign_recommendations(title, k):\n",
    "    idx = X_wpca_df.index.get_loc(title)\n",
    "    sim_scores = cosine_sim[idx]\n",
    "    sim_indices = sim_scores.argsort()[-k:][::-1]\n",
    "    sim_titles = X_wpca_df.iloc[sim_indices].index\n",
    "    return list(sim_titles)"
   ]
  },
  {
   "cell_type": "code",
   "execution_count": 26,
   "id": "70b38ca2",
   "metadata": {},
   "outputs": [],
   "source": [
    "recommendation = \"Grand Theft Auto V\""
   ]
  },
  {
   "cell_type": "code",
   "execution_count": 27,
   "id": "4ec75cdb",
   "metadata": {},
   "outputs": [
    {
     "data": {
      "text/plain": [
       "['Grand Theft Auto V',\n",
       " 'Just Cause 2',\n",
       " 'Watch Dogs',\n",
       " 'Just Cause 3',\n",
       " 'Grand Theft Auto IV',\n",
       " 'Sleeping Dogs: Definitive Edition',\n",
       " 'Saints Row: The Third',\n",
       " 'Grand Theft Auto: Episodes from Liberty City',\n",
       " 'Saints Row: Gat Out of Hell',\n",
       " 'Saints Row IV',\n",
       " 'Mafia II',\n",
       " 'Watch Dogs 2',\n",
       " 'Sleeping Dogs',\n",
       " 'Lego City Undercover',\n",
       " 'LEGO Marvel Super Heroes 2',\n",
       " 'Just Cause 2: Multiplayer Mod',\n",
       " 'Metal Gear Solid V: Ground Zeroes',\n",
       " \"Tom Clancy's Splinter Cell Chaos Theory\",\n",
       " 'Overlord: Fellowship of Evil',\n",
       " 'Far Cry 2']"
      ]
     },
     "execution_count": 27,
     "metadata": {},
     "output_type": "execute_result"
    }
   ],
   "source": [
    "get_euclidean_recommendations(recommendation, 20)"
   ]
  },
  {
   "cell_type": "code",
   "execution_count": 28,
   "id": "58b3ca14",
   "metadata": {},
   "outputs": [
    {
     "data": {
      "text/plain": [
       "['Grand Theft Auto V',\n",
       " 'Just Cause 2',\n",
       " 'Just Cause 3',\n",
       " 'Watch Dogs',\n",
       " 'Saints Row: Gat Out of Hell',\n",
       " 'Grand Theft Auto IV',\n",
       " 'Saints Row IV',\n",
       " 'Saints Row: The Third',\n",
       " 'Sleeping Dogs: Definitive Edition',\n",
       " 'Grand Theft Auto: Episodes from Liberty City',\n",
       " 'Saints Row 2',\n",
       " 'Mafia II',\n",
       " 'Saints Row: The Third Remastered',\n",
       " 'Watch Dogs 2',\n",
       " 'LEGO The Hobbit',\n",
       " 'Sleeping Dogs',\n",
       " 'Metal Gear Solid V: Ground Zeroes',\n",
       " 'Call of Duty: Black Ops III',\n",
       " \"Tom Clancy's Splinter Cell Chaos Theory\",\n",
       " 'Need for Speed Rivals']"
      ]
     },
     "execution_count": 28,
     "metadata": {},
     "output_type": "execute_result"
    }
   ],
   "source": [
    "get_cosign_recommendations(recommendation, 20)"
   ]
  },
  {
   "cell_type": "markdown",
   "id": "701608a1",
   "metadata": {},
   "source": [
    "#### This will take a long time, I added a loading bar for u \n",
    "This is taking the dictionary of games that in the same series and boosting their scores so that they will be more likely to be recommended"
   ]
  },
  {
   "cell_type": "code",
   "execution_count": 13,
   "id": "8cfd389b",
   "metadata": {},
   "outputs": [
    {
     "name": "stdout",
     "output_type": "stream",
     "text": [
      "[[ 1.          0.03825511 -0.48902932 ... -0.45657355 -0.44153517\n",
      "  -0.23594154]\n",
      " [ 0.03825511  1.          0.62224058 ... -0.03734797 -0.06536342\n",
      "  -0.49463352]\n",
      " [-0.48902932  0.62224058  1.         ...  0.06589589 -0.11330909\n",
      "  -0.30203072]\n",
      " ...\n",
      " [-0.45657355 -0.03734797  0.06589589 ...  1.          0.95466272\n",
      "   0.26370611]\n",
      " [-0.44153517 -0.06536342 -0.11330909 ...  0.95466272  1.\n",
      "   0.27270262]\n",
      " [-0.23594154 -0.49463352 -0.30203072 ...  0.26370611  0.27270262\n",
      "   1.        ]]\n"
     ]
    }
   ],
   "source": [
    "# Define a constant value to boost the similarity score\n",
    "boost = 0.2\n",
    "boost2 = boost*5\n",
    "\n",
    "# Create a boolean matrix that indicates if two games are in the same series\n",
    "series_mask = np.array([[game_id_j in series_dict.get(game_id_i, []) for game_id_j in df['id']] for game_id_i in df['id']])\n",
    "\n",
    "# Add the boost value to the similarity score where the mask is True\n",
    "cosine_sim[series_mask] += boost\n",
    "euclidean_dist[series_mask] += boost2\n",
    "\n",
    "# Print the modified cosine similarity matrix\n",
    "print(cosine_sim)\n"
   ]
  },
  {
   "cell_type": "code",
   "execution_count": 19,
   "id": "9217eec2",
   "metadata": {},
   "outputs": [
    {
     "data": {
      "text/plain": [
       "['Prototype 2',\n",
       " 'Grand Theft Auto V',\n",
       " 'Beyond: Two Souls',\n",
       " 'Resident Evil 3',\n",
       " \"Assassin's Creed Syndicate\",\n",
       " 'Borderlands Game of the Year Enhanced',\n",
       " 'Sleeping Dogs: Definitive Edition',\n",
       " 'Fallout 4',\n",
       " 'Call of Duty: Black Ops III',\n",
       " 'Anthem',\n",
       " 'Aliens: Fireteam Elite',\n",
       " 'Call of Duty: Infinite Warfare',\n",
       " 'Watch Dogs',\n",
       " 'Fallout: New Vegas',\n",
       " 'Star Wars Jedi Knight: Jedi Academy',\n",
       " 'BioShock 2',\n",
       " 'Spec Ops: The Line',\n",
       " 'Destiny 2',\n",
       " 'BioShock 2 Remastered',\n",
       " 'Far Cry 3']"
      ]
     },
     "execution_count": 19,
     "metadata": {},
     "output_type": "execute_result"
    }
   ],
   "source": [
    "get_cosign_recommendations(recommendation, 20)"
   ]
  },
  {
   "cell_type": "code",
   "execution_count": 18,
   "id": "4e11d40d",
   "metadata": {},
   "outputs": [
    {
     "data": {
      "text/plain": [
       "['Prototype 2',\n",
       " 'Grand Theft Auto V',\n",
       " 'Beyond: Two Souls',\n",
       " 'Borderlands Game of the Year Enhanced',\n",
       " 'Resident Evil 3',\n",
       " \"Assassin's Creed Syndicate\",\n",
       " 'Sleeping Dogs: Definitive Edition',\n",
       " 'Anthem',\n",
       " 'Watch Dogs',\n",
       " 'Star Wars Jedi Knight: Jedi Academy',\n",
       " 'Spec Ops: The Line',\n",
       " 'BioShock 2 Remastered',\n",
       " 'Fallout 4',\n",
       " 'Just Cause 2',\n",
       " 'Mad Max',\n",
       " 'Titanfall 2',\n",
       " 'BioShock 2',\n",
       " 'Mafia II',\n",
       " 'Attack on Titan / A.O.T. Wings of Freedom',\n",
       " 'Aliens: Fireteam Elite']"
      ]
     },
     "execution_count": 18,
     "metadata": {},
     "output_type": "execute_result"
    }
   ],
   "source": [
    "get_euclidean_recommendations(recommendation, 20)"
   ]
  },
  {
   "cell_type": "code",
   "execution_count": null,
   "id": "c6f861e8",
   "metadata": {},
   "outputs": [],
   "source": []
  }
 ],
 "metadata": {
  "kernelspec": {
   "display_name": "Python 3 (ipykernel)",
   "language": "python",
   "name": "python3"
  },
  "language_info": {
   "codemirror_mode": {
    "name": "ipython",
    "version": 3
   },
   "file_extension": ".py",
   "mimetype": "text/x-python",
   "name": "python",
   "nbconvert_exporter": "python",
   "pygments_lexer": "ipython3",
   "version": "3.10.9"
  }
 },
 "nbformat": 4,
 "nbformat_minor": 5
}
