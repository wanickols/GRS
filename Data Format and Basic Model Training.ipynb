{
 "cells": [
  {
   "cell_type": "markdown",
   "id": "404e27a9",
   "metadata": {},
   "source": [
    "# Basic Model Training\n",
    "\n",
    "## Importing"
   ]
  },
  {
   "cell_type": "code",
   "execution_count": 1,
   "id": "f111a8ac",
   "metadata": {},
   "outputs": [],
   "source": [
    "import pandas as pd\n",
    "import numpy as np\n",
    "\n",
    "df = pd.read_csv('clean_data.csv', sep=',')"
   ]
  },
  {
   "cell_type": "markdown",
   "id": "388646d8",
   "metadata": {},
   "source": [
    "### Series\n",
    "The series data won't be much use in the wpca if we condense it, so instead we are going to make a dictionary so we can boost the simularity score later"
   ]
  },
  {
   "cell_type": "code",
   "execution_count": 2,
   "id": "8a03efd0",
   "metadata": {},
   "outputs": [],
   "source": [
    "# Fill the NaN values with an empty list\n",
    "df['series'] = df['series'].fillna(\"\")\n",
    "\n",
    "# Split the series column by '-'\n",
    "df['series'] = df['series'].str.split('-')\n",
    "\n",
    "# Create an empty dictionary\n",
    "series_dict = {}\n",
    "\n",
    "# Loop through the series column\n",
    "for series in df['series']:\n",
    "    # Loop through each game id in the series\n",
    "    for game_id in series:\n",
    "        # Get the other games in the same series\n",
    "        other_games = [x for x in series if x != game_id]\n",
    "        # Add the game id and the other games to the dictionary\n",
    "        series_dict[game_id] = other_games\n",
    "\n",
    "# Print the series dictionary\n",
    "#print(series_dict)"
   ]
  },
  {
   "cell_type": "code",
   "execution_count": 3,
   "id": "6768f42a",
   "metadata": {},
   "outputs": [],
   "source": [
    "# Drop Columns\n",
    "X = df.drop(['name'], axis=1)\n",
    "ids = X['id']\n",
    "X = X.drop(['id'], axis=1)\n",
    "X = X.drop(['series'], axis=1).values\n",
    "y = df['name'].values"
   ]
  },
  {
   "cell_type": "markdown",
   "id": "b8b3b8a4",
   "metadata": {},
   "source": [
    "## Reducing Dimensionality\n",
    "\n",
    "The current data has way too many columns, and a bunch with 1.0 correlation. We want to simplify the data to make it easier to train and find more relelvant categories. \n",
    "\n",
    "##### Run one, not both. "
   ]
  },
  {
   "cell_type": "markdown",
   "id": "953dd57f",
   "metadata": {},
   "source": [
    "## Trimap"
   ]
  },
  {
   "cell_type": "code",
   "execution_count": 68,
   "id": "7c2b957e",
   "metadata": {},
   "outputs": [
    {
     "name": "stdout",
     "output_type": "stream",
     "text": [
      "TRIMAP(n_inliers=6, n_outliers=12, n_random=4, distance=manhattan, weight_temp=1000.0, lr=100.0, n_iters=1500, apply_pca=True, opt_method=dbd, verbose=True, return_seq=False)\n",
      "running TriMap on 9804 points with dimension 1992\n",
      "pre-processing\n",
      "applied PCA\n",
      "found nearest neighbors\n",
      "sampled triplets\n",
      "running TriMap with dbd\n",
      "Iteration:  100 / 1500, Loss: 0.000, Violated triplets: 2.6318\n",
      "Iteration:  200 / 1500, Loss: 0.000, Violated triplets: 2.7301\n",
      "Iteration:  300 / 1500, Loss: 0.000, Violated triplets: 2.8167\n",
      "Iteration:  400 / 1500, Loss: 0.000, Violated triplets: 2.8827\n",
      "Iteration:  500 / 1500, Loss: 0.000, Violated triplets: 2.9199\n",
      "Iteration:  600 / 1500, Loss: 0.000, Violated triplets: 2.9424\n",
      "Iteration:  700 / 1500, Loss: 0.000, Violated triplets: 2.9619\n",
      "Iteration:  800 / 1500, Loss: 0.000, Violated triplets: 2.9749\n",
      "Iteration:  900 / 1500, Loss: 0.000, Violated triplets: 2.9851\n",
      "Iteration: 1000 / 1500, Loss: 0.000, Violated triplets: 2.9931\n",
      "Iteration: 1100 / 1500, Loss: 0.000, Violated triplets: 3.0003\n",
      "Iteration: 1200 / 1500, Loss: 0.000, Violated triplets: 3.0076\n",
      "Iteration: 1300 / 1500, Loss: 0.000, Violated triplets: 3.0119\n",
      "Iteration: 1400 / 1500, Loss: 0.000, Violated triplets: 3.0165\n",
      "Iteration: 1500 / 1500, Loss: 0.000, Violated triplets: 3.0211\n",
      "Elapsed time: 0:00:30.500907\n"
     ]
    }
   ],
   "source": [
    "from trimap import TRIMAP\n",
    "\n",
    "num_comp = 4 # You can choose a different number of components for TriMap\n",
    "\n",
    "# Create and fit TriMap with the original features\n",
    "trimap = TRIMAP(n_dims=num_comp, n_inliers=6, n_outliers=12, n_random=4, distance='manhattan', weight_temp=1000.0, lr=100.0, n_iters=1500, verbose=True)\n",
    "trimap.fit(X)\n",
    "\n",
    "columns = ['trimap' + str(i) for i in range(0, num_comp)]\n",
    "\n",
    "# Access the reduced features from the embedding_ attribute\n",
    "X_trimap = trimap.embedding_\n",
    "\n",
    "# Create a dataframe with the reduced features\n",
    "X_df = pd.DataFrame(X_trimap, columns=columns)"
   ]
  },
  {
   "cell_type": "markdown",
   "id": "0679067d",
   "metadata": {},
   "source": [
    "## WPCA"
   ]
  },
  {
   "cell_type": "code",
   "execution_count": 4,
   "id": "ce1ddf91",
   "metadata": {},
   "outputs": [],
   "source": [
    "from wpca import WPCA\n",
    "\n",
    "num_comp = 128\n",
    "\n",
    "# Define feature weights\n",
    "# released, rating, playtime, 19 genres, 1994-24 tags, series dict \n",
    "w = np.array([[.7, .6, 4] + [1] * 19 + [.5] * (1994 - 24)] * 9804)\n",
    "\n",
    "# Create and fit WPCA with feature weights\n",
    "wpca = WPCA(n_components=num_comp)\n",
    "wpca.fit(X, weights=w)\n",
    "\n",
    "columns = ['pca' + str(i) for i in range(0, num_comp)]\n",
    "\n",
    "# Transform features to lower dimensionality\n",
    "X_wpca = wpca.transform(X)\n",
    "\n",
    "# Create a dataframe with the transformed features and the target\n",
    "X_df = pd.DataFrame(X_wpca, columns=columns)\n"
   ]
  },
  {
   "cell_type": "code",
   "execution_count": 5,
   "id": "259b59c2",
   "metadata": {},
   "outputs": [
    {
     "name": "stdout",
     "output_type": "stream",
     "text": [
      "[0.08034823 0.05336608 0.03936573 0.03032157 0.02865338 0.02679904\n",
      " 0.02131693 0.01947955 0.01910622 0.01708147 0.01378495 0.013499\n",
      " 0.01282992 0.01205059 0.01175677 0.0115811  0.01136731 0.01044218\n",
      " 0.00978947 0.0094734  0.00935663 0.00908754 0.00849713 0.00797058\n",
      " 0.00759595 0.0073008  0.00708377 0.00692518 0.00661844 0.00629393\n",
      " 0.00624454 0.00592846 0.00574219 0.00568674 0.00546639 0.00539125\n",
      " 0.00533596 0.00516247 0.00498238 0.00485034 0.00482227 0.00472267\n",
      " 0.00465786 0.00459959 0.00448281 0.00436273 0.00434273 0.00428767\n",
      " 0.00420638 0.00406887 0.00403946 0.00399563 0.0039396  0.00390266\n",
      " 0.00384317 0.00373528 0.00362599 0.00359996 0.00349504 0.00341716\n",
      " 0.00338099 0.00327909 0.00325617 0.00322249 0.0031739  0.00310131\n",
      " 0.00306876 0.00302646 0.00297292 0.00291266 0.00287388 0.00281477\n",
      " 0.0027843  0.00275526 0.00270718 0.00266549 0.00260009 0.00256999\n",
      " 0.00253163 0.00250286 0.00249119 0.0024381  0.00241788 0.00240349\n",
      " 0.00238789 0.00232189 0.00231943 0.00229408 0.00224499 0.00222803\n",
      " 0.00221314 0.00218257 0.00217097 0.00213289 0.0021118  0.00208971\n",
      " 0.00208274 0.00204341 0.00201637 0.00200479 0.0019815  0.00193925\n",
      " 0.00191698 0.00190382 0.00189483 0.00186294 0.00183514 0.00180069\n",
      " 0.00179058 0.0017729  0.00174496 0.00172328 0.00169976 0.00167371\n",
      " 0.00164773 0.00162811 0.00160802 0.00159141 0.00155851 0.00153036\n",
      " 0.0015182  0.00150525 0.00148391 0.00145887 0.0014195  0.00140332\n",
      " 0.00139153 0.00138527]\n"
     ]
    }
   ],
   "source": [
    "print(wpca.explained_variance_ratio_)"
   ]
  },
  {
   "cell_type": "markdown",
   "id": "64cf5851",
   "metadata": {},
   "source": [
    "## Similarity Metrics"
   ]
  },
  {
   "cell_type": "code",
   "execution_count": 6,
   "id": "1895e8c1",
   "metadata": {},
   "outputs": [],
   "source": [
    "from sklearn.metrics.pairwise import cosine_similarity\n",
    "from scipy.spatial.distance import pdist, squareform\n",
    "\n",
    "cosine_sim = cosine_similarity(X_df, X_df)\n",
    "euclidean_dist = squareform(pdist(X_df))"
   ]
  },
  {
   "cell_type": "code",
   "execution_count": 7,
   "id": "38722b8d",
   "metadata": {},
   "outputs": [],
   "source": [
    "#euclidean_dist"
   ]
  },
  {
   "cell_type": "code",
   "execution_count": 8,
   "id": "c26ebe2d",
   "metadata": {},
   "outputs": [],
   "source": [
    "#cosine_sim"
   ]
  },
  {
   "cell_type": "code",
   "execution_count": 9,
   "id": "013dc084",
   "metadata": {},
   "outputs": [],
   "source": [
    "X_df['name'] = y\n",
    "\n",
    "# Set the name as the index\n",
    "X_df = X_df.set_index('name')"
   ]
  },
  {
   "cell_type": "code",
   "execution_count": 10,
   "id": "d554cc67",
   "metadata": {},
   "outputs": [],
   "source": [
    "def get_euclidean_recommendations(title, k):\n",
    "    idx = X_df.index.get_loc(title)\n",
    "    sim_scores = euclidean_dist[idx]\n",
    "    sim_indices = sim_scores.argsort()[:k]\n",
    "    sim_titles = X_df.iloc[sim_indices].index\n",
    "    return list(sim_titles)\n",
    "\n",
    "def get_cosign_recommendations(title, k):\n",
    "    idx = X_df.index.get_loc(title)\n",
    "    sim_scores = cosine_sim[idx]\n",
    "    sim_indices = sim_scores.argsort()[-k:][::-1]\n",
    "    sim_titles = X_df.iloc[sim_indices].index\n",
    "    return list(sim_titles)"
   ]
  },
  {
   "cell_type": "code",
   "execution_count": 20,
   "id": "ad3e8ec1",
   "metadata": {},
   "outputs": [],
   "source": [
    "recommendation = \"Lego City Undercover\""
   ]
  },
  {
   "cell_type": "code",
   "execution_count": 21,
   "id": "fe3b752a",
   "metadata": {},
   "outputs": [
    {
     "data": {
      "text/plain": [
       "['Lego City Undercover',\n",
       " 'LEGO Marvel Super Heroes 2',\n",
       " 'LEGO The Incredibles',\n",
       " 'LEGO Worlds',\n",
       " 'Overlord: Fellowship of Evil',\n",
       " 'LEGO DC Super-Villains',\n",
       " 'Just Die Already',\n",
       " 'Think of the Children',\n",
       " \"Super Lucky's Tale\",\n",
       " 'Disc Jam',\n",
       " 'LEGO Marvel Super Heroes',\n",
       " 'Scribblenauts Unmasked: A DC Comics Adventure',\n",
       " 'LEGO The Hobbit',\n",
       " 'Disney Universe',\n",
       " 'Shiftlings',\n",
       " 'WWE 2K18',\n",
       " 'Totally Reliable Delivery Service',\n",
       " 'Red Wings: Aces of the Sky',\n",
       " 'Omno',\n",
       " \"Black Future '88\"]"
      ]
     },
     "execution_count": 21,
     "metadata": {},
     "output_type": "execute_result"
    }
   ],
   "source": [
    "get_euclidean_recommendations(recommendation, 20)"
   ]
  },
  {
   "cell_type": "code",
   "execution_count": 24,
   "id": "10a323b9",
   "metadata": {},
   "outputs": [
    {
     "data": {
      "text/plain": [
       "['Lego City Undercover',\n",
       " 'LEGO Marvel Super Heroes 2',\n",
       " 'LEGO Worlds',\n",
       " 'LEGO Marvel Super Heroes',\n",
       " 'LEGO Jurassic World',\n",
       " 'LEGO Batman 3: Beyond Gotham',\n",
       " 'LEGO The Hobbit',\n",
       " 'LEGO The Incredibles',\n",
       " 'The LEGO Movie - Videogame',\n",
       " \"LEGO Marvel's Avengers\",\n",
       " 'Scribblenauts Unmasked: A DC Comics Adventure',\n",
       " 'Just Die Already',\n",
       " 'LEGO Batman 2 DC Super Heroes',\n",
       " 'Ben 10: Power Trip',\n",
       " 'Saints Row: The Third Remastered']"
      ]
     },
     "execution_count": 24,
     "metadata": {},
     "output_type": "execute_result"
    }
   ],
   "source": [
    "get_cosign_recommendations(recommendation, 15)"
   ]
  },
  {
   "cell_type": "markdown",
   "id": "d69d35a8",
   "metadata": {},
   "source": [
    "#### This will take a long time, I added a loading bar for u \n",
    "This is taking the dictionary of games that in the same series and boosting their scores so that they will be more likely to be recommended"
   ]
  },
  {
   "cell_type": "code",
   "execution_count": 13,
   "id": "6588caee",
   "metadata": {},
   "outputs": [
    {
     "name": "stdout",
     "output_type": "stream",
     "text": [
      "[[ 1.          0.03825511 -0.48902932 ... -0.45657355 -0.44153517\n",
      "  -0.23594154]\n",
      " [ 0.03825511  1.          0.62224058 ... -0.03734797 -0.06536342\n",
      "  -0.49463352]\n",
      " [-0.48902932  0.62224058  1.         ...  0.06589589 -0.11330909\n",
      "  -0.30203072]\n",
      " ...\n",
      " [-0.45657355 -0.03734797  0.06589589 ...  1.          0.95466272\n",
      "   0.26370611]\n",
      " [-0.44153517 -0.06536342 -0.11330909 ...  0.95466272  1.\n",
      "   0.27270262]\n",
      " [-0.23594154 -0.49463352 -0.30203072 ...  0.26370611  0.27270262\n",
      "   1.        ]]\n"
     ]
    }
   ],
   "source": [
    "# Define a constant value to boost the similarity score\n",
    "boost = 0.2\n",
    "boost2 = boost*5\n",
    "\n",
    "# Create a boolean matrix that indicates if two games are in the same series\n",
    "series_mask = np.array([[game_id_j in series_dict.get(game_id_i, []) for game_id_j in df['id']] for game_id_i in df['id']])\n",
    "\n",
    "# Add the boost value to the similarity score where the mask is True\n",
    "cosine_sim[series_mask] += boost\n",
    "euclidean_dist[series_mask] += boost2\n",
    "\n",
    "# Print the modified cosine similarity matrix\n",
    "print(cosine_sim)\n"
   ]
  },
  {
   "cell_type": "code",
   "execution_count": 19,
   "id": "d3029f09",
   "metadata": {},
   "outputs": [
    {
     "data": {
      "text/plain": [
       "['Prototype 2',\n",
       " 'Grand Theft Auto V',\n",
       " 'Beyond: Two Souls',\n",
       " 'Resident Evil 3',\n",
       " \"Assassin's Creed Syndicate\",\n",
       " 'Borderlands Game of the Year Enhanced',\n",
       " 'Sleeping Dogs: Definitive Edition',\n",
       " 'Fallout 4',\n",
       " 'Call of Duty: Black Ops III',\n",
       " 'Anthem',\n",
       " 'Aliens: Fireteam Elite',\n",
       " 'Call of Duty: Infinite Warfare',\n",
       " 'Watch Dogs',\n",
       " 'Fallout: New Vegas',\n",
       " 'Star Wars Jedi Knight: Jedi Academy',\n",
       " 'BioShock 2',\n",
       " 'Spec Ops: The Line',\n",
       " 'Destiny 2',\n",
       " 'BioShock 2 Remastered',\n",
       " 'Far Cry 3']"
      ]
     },
     "execution_count": 19,
     "metadata": {},
     "output_type": "execute_result"
    }
   ],
   "source": [
    "get_cosign_recommendations(recommendation, 20)"
   ]
  },
  {
   "cell_type": "code",
   "execution_count": 18,
   "id": "c2e41a89",
   "metadata": {},
   "outputs": [
    {
     "data": {
      "text/plain": [
       "['Prototype 2',\n",
       " 'Grand Theft Auto V',\n",
       " 'Beyond: Two Souls',\n",
       " 'Borderlands Game of the Year Enhanced',\n",
       " 'Resident Evil 3',\n",
       " \"Assassin's Creed Syndicate\",\n",
       " 'Sleeping Dogs: Definitive Edition',\n",
       " 'Anthem',\n",
       " 'Watch Dogs',\n",
       " 'Star Wars Jedi Knight: Jedi Academy',\n",
       " 'Spec Ops: The Line',\n",
       " 'BioShock 2 Remastered',\n",
       " 'Fallout 4',\n",
       " 'Just Cause 2',\n",
       " 'Mad Max',\n",
       " 'Titanfall 2',\n",
       " 'BioShock 2',\n",
       " 'Mafia II',\n",
       " 'Attack on Titan / A.O.T. Wings of Freedom',\n",
       " 'Aliens: Fireteam Elite']"
      ]
     },
     "execution_count": 18,
     "metadata": {},
     "output_type": "execute_result"
    }
   ],
   "source": [
    "get_euclidean_recommendations(recommendation, 20)"
   ]
  },
  {
   "cell_type": "code",
   "execution_count": null,
   "id": "83234f58",
   "metadata": {},
   "outputs": [],
   "source": []
  }
 ],
 "metadata": {
  "kernelspec": {
   "display_name": "Python 3 (ipykernel)",
   "language": "python",
   "name": "python3"
  },
  "language_info": {
   "codemirror_mode": {
    "name": "ipython",
    "version": 3
   },
   "file_extension": ".py",
   "mimetype": "text/x-python",
   "name": "python",
   "nbconvert_exporter": "python",
   "pygments_lexer": "ipython3",
   "version": "3.10.9"
  }
 },
 "nbformat": 4,
 "nbformat_minor": 5
}
