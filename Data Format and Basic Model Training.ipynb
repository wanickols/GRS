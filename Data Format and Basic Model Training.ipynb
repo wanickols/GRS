{
 "cells": [
  {
   "cell_type": "markdown",
   "id": "404e27a9",
   "metadata": {},
   "source": [
    "# Basic Model Training\n",
    "\n",
    "## Importing"
   ]
  },
  {
   "cell_type": "code",
   "execution_count": 1,
   "id": "f111a8ac",
   "metadata": {},
   "outputs": [],
   "source": [
    "import pandas as pd\n",
    "import numpy as np\n",
    "\n",
    "df = pd.read_csv('clean_data.csv', sep=',')"
   ]
  },
  {
   "cell_type": "code",
   "execution_count": 2,
   "id": "6768f42a",
   "metadata": {},
   "outputs": [],
   "source": [
    "# Drop Columns\n",
    "X = df.drop(['released'], axis=1)\n",
    "X = X.drop(['name'], axis=1).values\n",
    "y = df['name'].values"
   ]
  },
  {
   "cell_type": "markdown",
   "id": "b8b3b8a4",
   "metadata": {},
   "source": [
    "## Reducing Dimensionality\n",
    "\n",
    "#### The current data has way too many columns, and a bunch with 1.0 correlation. We want to simplify the data to make it easier to train and find more relelvant categories. "
   ]
  },
  {
   "cell_type": "code",
   "execution_count": 24,
   "id": "ce1ddf91",
   "metadata": {},
   "outputs": [],
   "source": [
    "from sklearn.model_selection import train_test_split \n",
    "from wpca import WPCA\n",
    "\n",
    "# Define feature weights\n",
    "w = np.array([[1, 1, 4] + [2] * 19 + [0.2] * (1994 - 24)] * 9804)\n",
    "\n",
    "# Create and fit WPCA with feature weights\n",
    "wpca = WPCA(n_components=2)\n",
    "wpca.fit(X, weights=w)\n",
    "\n",
    "# Transform features to lower dimensionality\n",
    "X_wpca = wpca.transform(X)\n",
    "\n",
    "# Create a dataframe with the transformed features and the target\n",
    "X_wpca_df = pd.DataFrame(X_wpca, columns=['pca1', 'pca2'])\n",
    "X_wpca_df['name'] = y\n",
    "\n",
    "# Set the name as the index\n",
    "X_wpca_df = X_wpca_df.set_index('name')"
   ]
  },
  {
   "cell_type": "code",
   "execution_count": null,
   "id": "63ca8013",
   "metadata": {},
   "outputs": [],
   "source": [
    "\n"
   ]
  },
  {
   "cell_type": "code",
   "execution_count": null,
   "id": "a3bb945a",
   "metadata": {},
   "outputs": [],
   "source": []
  },
  {
   "cell_type": "code",
   "execution_count": 25,
   "id": "1895e8c1",
   "metadata": {},
   "outputs": [],
   "source": [
    "from sklearn.metrics.pairwise import cosine_similarity\n",
    "\n",
    "cosine_sim = cosine_similarity(X_wpca_df, X_wpca_df)"
   ]
  },
  {
   "cell_type": "code",
   "execution_count": 26,
   "id": "d554cc67",
   "metadata": {},
   "outputs": [],
   "source": [
    "def get_recommendations(title, k):\n",
    "    idx = X_wpca_df.index.get_loc(title)\n",
    "    sim_scores = cosine_sim[idx]\n",
    "    sim_indices = sim_scores.argsort()[-k:][::-1]\n",
    "    sim_titles = X_wpca_df.iloc[sim_indices].index\n",
    "    return list(sim_titles)"
   ]
  },
  {
   "cell_type": "code",
   "execution_count": 27,
   "id": "17620747",
   "metadata": {},
   "outputs": [
    {
     "data": {
      "text/plain": [
       "['Grand Theft Auto V',\n",
       " 'The Last of Us: Left Behind',\n",
       " 'Final Fantasy IV (1991)',\n",
       " 'Burnout 3: Takedown',\n",
       " 'Too Human',\n",
       " 'Bomberman (1983)',\n",
       " 'Mutant Year Zero: Road to Eden',\n",
       " 'Resistance 3',\n",
       " \"Tony Hawk's Underground\",\n",
       " 'BioShock Infinite: Burial at Sea - Episode Two',\n",
       " 'LEGO DC Super-Villains',\n",
       " 'Fire Emblem: The Blazing Blade',\n",
       " 'Monster Hunter: World',\n",
       " 'Fallout: New Vegas - Ultimate Edition',\n",
       " 'OKAMI HD']"
      ]
     },
     "execution_count": 27,
     "metadata": {},
     "output_type": "execute_result"
    }
   ],
   "source": [
    "get_recommendations(\"Grand Theft Auto V\", 15)"
   ]
  },
  {
   "cell_type": "code",
   "execution_count": null,
   "id": "4f5b842a",
   "metadata": {},
   "outputs": [],
   "source": []
  },
  {
   "cell_type": "code",
   "execution_count": null,
   "id": "2592b036",
   "metadata": {},
   "outputs": [],
   "source": []
  }
 ],
 "metadata": {
  "kernelspec": {
   "display_name": "Python 3 (ipykernel)",
   "language": "python",
   "name": "python3"
  },
  "language_info": {
   "codemirror_mode": {
    "name": "ipython",
    "version": 3
   },
   "file_extension": ".py",
   "mimetype": "text/x-python",
   "name": "python",
   "nbconvert_exporter": "python",
   "pygments_lexer": "ipython3",
   "version": "3.10.9"
  }
 },
 "nbformat": 4,
 "nbformat_minor": 5
}
