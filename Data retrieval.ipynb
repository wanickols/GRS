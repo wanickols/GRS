{
 "cells": [
  {
   "cell_type": "markdown",
   "id": "f4da0d45",
   "metadata": {},
   "source": [
    "# Game Recommendation Data Retrieval"
   ]
  },
  {
   "cell_type": "code",
   "execution_count": 1,
   "id": "a5fd97d4",
   "metadata": {},
   "outputs": [],
   "source": [
    "import time\n",
    "import csv\n",
    "import requests\n",
    "from queue import Queue\n",
    "from threading import Thread\n",
    "\n",
    "key = \"KEY GOES HERE\" # Free to get"
   ]
  },
  {
   "cell_type": "markdown",
   "id": "f7d62e68",
   "metadata": {},
   "source": [
    "### Single Thread\n",
    "#### Only do if you can't do multithread, will take longer"
   ]
  },
  {
   "cell_type": "code",
   "execution_count": 6,
   "id": "aa4d595b",
   "metadata": {},
   "outputs": [
    {
     "name": "stdout",
     "output_type": "stream",
     "text": [
      "1\n",
      "Elapsed time: 6.639714956283569 seconds\n"
     ]
    }
   ],
   "source": [
    "start = time.time()\n",
    "\n",
    "# Set up the API call parameters\n",
    "url = \"https://api.rawg.io/api/games\"\n",
    "params = {\n",
    "    \"page\": 1,\n",
    "    \"page_size\": 5,\n",
    "    \"key\": key\n",
    "}\n",
    "\n",
    "fields = [\"id\", \"name\", \"released\", \n",
    "          \"rating\", \n",
    "          \"platforms\", \"series\", \"genre\",\n",
    "          \"tags\",\"metacritic\",\"playtime\",]\n",
    "\n",
    "# Open the CSV file for writing\n",
    "with open(\"games.csv\", mode=\"w\", newline=\"\", encoding=\"utf-8\") as file:\n",
    "    # Create a CSV writer object\n",
    "    writer = csv.writer(file)\n",
    "\n",
    "    # Write the header row\n",
    "    writer.writerow(fields)\n",
    "\n",
    "    # Loop through the pages of the API results\n",
    "    for page in range(1, 2):\n",
    "        # Set the page parameter in the API call\n",
    "        params[\"page\"] = page\n",
    "\n",
    "        # Make the API call and get the JSON response\n",
    "        response = requests.get(url, params=params)\n",
    "        data = response.json()[\"results\"]\n",
    "        print(page)\n",
    "        \n",
    "            # Use the csv module to write the games data to the file\n",
    "        csv.writer(file).writerows([[game[\"id\"], game[\"name\"], game[\"released\"], \n",
    "                                     game[\"rating\"], \n",
    "                                     \"-\".join([platform[\"platform\"][\"name\"] for platform in game[\"platforms\"]]) if game[\"platforms\"] else \"\", \n",
    "                                     \"-\".join([str(game_data[\"id\"]) for game_data in requests.get(f\"https://api.rawg.io/api/games/{game['id']}/game-series\", params={\"key\": params[\"key\"]}).json()[\"results\"]]) if requests.get(f\"https://api.rawg.io/api/games/{game['id']}/game-series\", params={\"key\": params[\"key\"]}).json()[\"results\"] else \"\",\n",
    "                                     \"-\".join([genre[\"name\"] for genre in game[\"genres\"]]) if game[\"genres\"] else \"\",\n",
    "                                     \"-\".join([tag[\"name\"] for tag in game[\"tags\"]]) if game[\"tags\"] else \"\",\n",
    "                                     game[\"metacritic\"],\n",
    "                                     game[\"playtime\"]] for game in data])\n",
    "            \n",
    "\n",
    "end = time.time()\n",
    "print(f\"Elapsed time: {end - start} seconds\")"
   ]
  },
  {
   "cell_type": "markdown",
   "id": "8c5e7d2f",
   "metadata": {},
   "source": [
    "### Multi Thread\n",
    "#### Yeah, pretty cool :d"
   ]
  },
  {
   "cell_type": "code",
   "execution_count": 8,
   "id": "88f61d31",
   "metadata": {},
   "outputs": [
    {
     "name": "stdout",
     "output_type": "stream",
     "text": [
      "Elapsed time: 2762.350819349289 seconds\n"
     ]
    }
   ],
   "source": [
    "start = time.time()\n",
    "\n",
    "# Set up the API call parameters\n",
    "url = \"https://api.rawg.io/api/games\"\n",
    "params = {\n",
    "    \"page\": 1,\n",
    "    \"page_size\": 40,\n",
    "    \"key\": \"f2d896f890e746e6bdf1bdf8d1391e6a\"\n",
    "}\n",
    "\n",
    "fields = [\"id\", \"name\", \"released\", \n",
    "          \"rating\", \n",
    "          \"platforms\", \"series\", \"genre\",\n",
    "          \"tags\",\"metacritic\",\"playtime\",]\n",
    "\n",
    "# Define a worker function that takes items from the queue and writes them to the CSV file\n",
    "def worker(q, file):\n",
    "    while True:\n",
    "        # Get an item from the queue\n",
    "        item = q.get()\n",
    "        # If the item is None, break the loop\n",
    "        if item is None:\n",
    "            break\n",
    "        # Otherwise, write the item to the file\n",
    "        writer = csv.writer(file)\n",
    "        writer.writerow(item)\n",
    "        # Indicate that the task is done\n",
    "        q.task_done()\n",
    "\n",
    "# Open the CSV file for writing\n",
    "with open(\"games2.csv\", mode=\"w\", newline=\"\", encoding=\"utf-8\") as file:\n",
    "    # Create a CSV writer object\n",
    "    writer = csv.writer(file)\n",
    "\n",
    "    # Write the header row\n",
    "    writer.writerow(fields)\n",
    "\n",
    "    # Create a queue object\n",
    "    q = Queue()\n",
    "\n",
    "    # Create a list of threads\n",
    "    num_threads = 8 # You can adjust this number according to your needs\n",
    "    threads = []\n",
    "\n",
    "    # Start num_threads threads and add them to the list\n",
    "    for i in range(num_threads):\n",
    "        t = Thread(target=worker, args=(q, file))\n",
    "        t.start()\n",
    "        threads.append(t)\n",
    "\n",
    "    # Loop through the pages of the API results\n",
    "    for page in range(53, 250):\n",
    "        # Set the page parameter in the API call\n",
    "        params[\"page\"] = page\n",
    "\n",
    "        # Make the API call and get the JSON response\n",
    "        response = requests.get(url, params=params)\n",
    "        data = response.json()[\"results\"]\n",
    "        \n",
    "        # Put each game data into the queue as a list\n",
    "        for game in data:\n",
    "            q.put([game[\"id\"], game[\"name\"], game[\"released\"], \n",
    "                   game[\"rating\"], \n",
    "                   \"-\".join([platform[\"platform\"][\"name\"] for platform in game[\"platforms\"]]) if game[\"platforms\"] else \"\", \n",
    "                   \"-\".join([str(game_data[\"id\"]) for game_data in requests.get(f\"https://api.rawg.io/api/games/{game['id']}/game-series\", params={\"key\": params[\"key\"]}).json()[\"results\"]]) if requests.get(f\"https://api.rawg.io/api/games/{game['id']}/game-series\", params={\"key\": params[\"key\"]}).json()[\"results\"] else \"\",\n",
    "                   \"-\".join([genre[\"name\"] for genre in game[\"genres\"]]) if game[\"genres\"] else \"\",\n",
    "                   \"-\".join([tag[\"name\"] for tag in game[\"tags\"]]) if game[\"tags\"] else \"\",\n",
    "                   game[\"metacritic\"],\n",
    "                   game[\"playtime\"]])\n",
    "\n",
    "    # Put None into the queue for each thread to indicate that there is no more data\n",
    "    for i in range(num_threads):\n",
    "        q.put(None)\n",
    "\n",
    "    # Wait for all threads to finish\n",
    "    for t in threads:\n",
    "        t.join()\n",
    "        \n",
    "end = time.time()\n",
    "print(f\"Elapsed time: {end - start} seconds\")"
   ]
  }
 ],
 "metadata": {
  "kernelspec": {
   "display_name": "Python 3 (ipykernel)",
   "language": "python",
   "name": "python3"
  },
  "language_info": {
   "codemirror_mode": {
    "name": "ipython",
    "version": 3
   },
   "file_extension": ".py",
   "mimetype": "text/x-python",
   "name": "python",
   "nbconvert_exporter": "python",
   "pygments_lexer": "ipython3",
   "version": "3.10.9"
  }
 },
 "nbformat": 4,
 "nbformat_minor": 5
}
