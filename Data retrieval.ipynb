{
 "cells": [
  {
   "cell_type": "markdown",
   "id": "f4da0d45",
   "metadata": {},
   "source": [
    "# Game Recommendation Data Retrieval"
   ]
  },
  {
   "cell_type": "code",
   "execution_count": 1,
   "id": "a5fd97d4",
   "metadata": {},
   "outputs": [],
   "source": [
    "import time\n",
    "import csv\n",
    "import requests\n",
    "from queue import Queue\n",
    "from threading import Thread"
   ]
  },
  {
   "cell_type": "code",
   "execution_count": 12,
   "id": "aa4d595b",
   "metadata": {},
   "outputs": [
    {
     "ename": "KeyError",
     "evalue": "'results'",
     "output_type": "error",
     "traceback": [
      "\u001b[1;31m---------------------------------------------------------------------------\u001b[0m",
      "\u001b[1;31mKeyError\u001b[0m                                  Traceback (most recent call last)",
      "Cell \u001b[1;32mIn[12], line 31\u001b[0m\n\u001b[0;32m     29\u001b[0m \u001b[38;5;66;03m# Make the API call and get the JSON response\u001b[39;00m\n\u001b[0;32m     30\u001b[0m response \u001b[38;5;241m=\u001b[39m requests\u001b[38;5;241m.\u001b[39mget(url, params\u001b[38;5;241m=\u001b[39mparams)\n\u001b[1;32m---> 31\u001b[0m data \u001b[38;5;241m=\u001b[39m \u001b[43mresponse\u001b[49m\u001b[38;5;241;43m.\u001b[39;49m\u001b[43mjson\u001b[49m\u001b[43m(\u001b[49m\u001b[43m)\u001b[49m\u001b[43m[\u001b[49m\u001b[38;5;124;43m\"\u001b[39;49m\u001b[38;5;124;43mresults\u001b[39;49m\u001b[38;5;124;43m\"\u001b[39;49m\u001b[43m]\u001b[49m\n\u001b[0;32m     32\u001b[0m \u001b[38;5;28mprint\u001b[39m(page)\n\u001b[0;32m     34\u001b[0m     \u001b[38;5;66;03m# Use the csv module to write the games data to the file\u001b[39;00m\n",
      "\u001b[1;31mKeyError\u001b[0m: 'results'"
     ]
    }
   ],
   "source": [
    "start = time.time()\n",
    "\n",
    "# Set up the API call parameters\n",
    "url = \"https://api.rawg.io/api/games\"\n",
    "params = {\n",
    "    \"page\": 1,\n",
    "    \"page_size\": 5,\n",
    "    \"key\": \"de4c2cc9f2f0472492b8f58250c640c1\"\n",
    "}\n",
    "\n",
    "fields = [\"id\", \"name\", \"released\", \n",
    "          \"rating\", \n",
    "          \"platforms\", \"series\", \"genre\",\n",
    "          \"tags\",\"metacritic\",\"playtime\",]\n",
    "\n",
    "# Open the CSV file for writing\n",
    "with open(\"games.csv\", mode=\"w\", newline=\"\", encoding=\"utf-8\") as file:\n",
    "    # Create a CSV writer object\n",
    "    writer = csv.writer(file)\n",
    "\n",
    "    # Write the header row\n",
    "    writer.writerow(fields)\n",
    "\n",
    "    # Loop through the pages of the API results\n",
    "    for page in range(1, 10):\n",
    "        # Set the page parameter in the API call\n",
    "        params[\"page\"] = page\n",
    "\n",
    "        # Make the API call and get the JSON response\n",
    "        response = requests.get(url, params=params)\n",
    "        data = response.json()[\"results\"]\n",
    "        print(page)\n",
    "        \n",
    "            # Use the csv module to write the games data to the file\n",
    "        csv.writer(file).writerows([[game[\"id\"], game[\"name\"], game[\"released\"], \n",
    "                                     game[\"rating\"], \n",
    "                                     \"-\".join([platform[\"platform\"][\"name\"] for platform in game[\"platforms\"]]) if game[\"platforms\"] else \"\", \n",
    "                                     \"-\".join([str(game_data[\"id\"]) for game_data in requests.get(f\"https://api.rawg.io/api/games/{game['id']}/game-series\", params={\"key\": params[\"key\"]}).json()[\"results\"]]) if requests.get(f\"https://api.rawg.io/api/games/{game['id']}/game-series\", params={\"key\": params[\"key\"]}).json()[\"results\"] else \"\",\n",
    "                                     \"-\".join([genre[\"name\"] for genre in game[\"genres\"]]) if game[\"genres\"] else \"\",\n",
    "                                     \"-\".join([tag[\"name\"] for tag in game[\"tags\"]]) if game[\"tags\"] else \"\",\n",
    "                                     game[\"metacritic\"],\n",
    "                                     game[\"playtime\"]] for game in data])\n",
    "            \n",
    "\n",
    "end = time.time()\n",
    "print(f\"Elapsed time: {end - start} seconds\")"
   ]
  },
  {
   "cell_type": "code",
   "execution_count": 11,
   "id": "88f61d31",
   "metadata": {},
   "outputs": [
    {
     "ename": "KeyError",
     "evalue": "'results'",
     "output_type": "error",
     "traceback": [
      "\u001b[1;31m---------------------------------------------------------------------------\u001b[0m",
      "\u001b[1;31mKeyError\u001b[0m                                  Traceback (most recent call last)",
      "Cell \u001b[1;32mIn[11], line 65\u001b[0m\n\u001b[0;32m     60\u001b[0m     \u001b[38;5;66;03m# Put each game data into the queue as a list\u001b[39;00m\n\u001b[0;32m     61\u001b[0m     \u001b[38;5;28;01mfor\u001b[39;00m game \u001b[38;5;129;01min\u001b[39;00m data:\n\u001b[0;32m     62\u001b[0m         q\u001b[38;5;241m.\u001b[39mput([game[\u001b[38;5;124m\"\u001b[39m\u001b[38;5;124mid\u001b[39m\u001b[38;5;124m\"\u001b[39m], game[\u001b[38;5;124m\"\u001b[39m\u001b[38;5;124mname\u001b[39m\u001b[38;5;124m\"\u001b[39m], game[\u001b[38;5;124m\"\u001b[39m\u001b[38;5;124mreleased\u001b[39m\u001b[38;5;124m\"\u001b[39m], \n\u001b[0;32m     63\u001b[0m                game[\u001b[38;5;124m\"\u001b[39m\u001b[38;5;124mrating\u001b[39m\u001b[38;5;124m\"\u001b[39m], \n\u001b[0;32m     64\u001b[0m                \u001b[38;5;124m\"\u001b[39m\u001b[38;5;124m-\u001b[39m\u001b[38;5;124m\"\u001b[39m\u001b[38;5;241m.\u001b[39mjoin([platform[\u001b[38;5;124m\"\u001b[39m\u001b[38;5;124mplatform\u001b[39m\u001b[38;5;124m\"\u001b[39m][\u001b[38;5;124m\"\u001b[39m\u001b[38;5;124mname\u001b[39m\u001b[38;5;124m\"\u001b[39m] \u001b[38;5;28;01mfor\u001b[39;00m platform \u001b[38;5;129;01min\u001b[39;00m game[\u001b[38;5;124m\"\u001b[39m\u001b[38;5;124mplatforms\u001b[39m\u001b[38;5;124m\"\u001b[39m]]) \u001b[38;5;28;01mif\u001b[39;00m game[\u001b[38;5;124m\"\u001b[39m\u001b[38;5;124mplatforms\u001b[39m\u001b[38;5;124m\"\u001b[39m] \u001b[38;5;28;01melse\u001b[39;00m \u001b[38;5;124m\"\u001b[39m\u001b[38;5;124m\"\u001b[39m, \n\u001b[1;32m---> 65\u001b[0m                \u001b[38;5;124m\"\u001b[39m\u001b[38;5;124m-\u001b[39m\u001b[38;5;124m\"\u001b[39m\u001b[38;5;241m.\u001b[39mjoin([\u001b[38;5;28mstr\u001b[39m(game_data[\u001b[38;5;124m\"\u001b[39m\u001b[38;5;124mid\u001b[39m\u001b[38;5;124m\"\u001b[39m]) \u001b[38;5;28;01mfor\u001b[39;00m game_data \u001b[38;5;129;01min\u001b[39;00m \u001b[43mrequests\u001b[49m\u001b[38;5;241;43m.\u001b[39;49m\u001b[43mget\u001b[49m\u001b[43m(\u001b[49m\u001b[38;5;124;43mf\u001b[39;49m\u001b[38;5;124;43m\"\u001b[39;49m\u001b[38;5;124;43mhttps://api.rawg.io/api/games/\u001b[39;49m\u001b[38;5;132;43;01m{\u001b[39;49;00m\u001b[43mgame\u001b[49m\u001b[43m[\u001b[49m\u001b[38;5;124;43m'\u001b[39;49m\u001b[38;5;124;43mid\u001b[39;49m\u001b[38;5;124;43m'\u001b[39;49m\u001b[43m]\u001b[49m\u001b[38;5;132;43;01m}\u001b[39;49;00m\u001b[38;5;124;43m/game-series\u001b[39;49m\u001b[38;5;124;43m\"\u001b[39;49m\u001b[43m,\u001b[49m\u001b[43m \u001b[49m\u001b[43mparams\u001b[49m\u001b[38;5;241;43m=\u001b[39;49m\u001b[43m{\u001b[49m\u001b[38;5;124;43m\"\u001b[39;49m\u001b[38;5;124;43mkey\u001b[39;49m\u001b[38;5;124;43m\"\u001b[39;49m\u001b[43m:\u001b[49m\u001b[43m \u001b[49m\u001b[43mparams\u001b[49m\u001b[43m[\u001b[49m\u001b[38;5;124;43m\"\u001b[39;49m\u001b[38;5;124;43mkey\u001b[39;49m\u001b[38;5;124;43m\"\u001b[39;49m\u001b[43m]\u001b[49m\u001b[43m}\u001b[49m\u001b[43m)\u001b[49m\u001b[38;5;241;43m.\u001b[39;49m\u001b[43mjson\u001b[49m\u001b[43m(\u001b[49m\u001b[43m)\u001b[49m\u001b[43m[\u001b[49m\u001b[38;5;124;43m\"\u001b[39;49m\u001b[38;5;124;43mresults\u001b[39;49m\u001b[38;5;124;43m\"\u001b[39;49m\u001b[43m]\u001b[49m]) \u001b[38;5;28;01mif\u001b[39;00m requests\u001b[38;5;241m.\u001b[39mget(\u001b[38;5;124mf\u001b[39m\u001b[38;5;124m\"\u001b[39m\u001b[38;5;124mhttps://api.rawg.io/api/games/\u001b[39m\u001b[38;5;132;01m{\u001b[39;00mgame[\u001b[38;5;124m'\u001b[39m\u001b[38;5;124mid\u001b[39m\u001b[38;5;124m'\u001b[39m]\u001b[38;5;132;01m}\u001b[39;00m\u001b[38;5;124m/game-series\u001b[39m\u001b[38;5;124m\"\u001b[39m, params\u001b[38;5;241m=\u001b[39m{\u001b[38;5;124m\"\u001b[39m\u001b[38;5;124mkey\u001b[39m\u001b[38;5;124m\"\u001b[39m: params[\u001b[38;5;124m\"\u001b[39m\u001b[38;5;124mkey\u001b[39m\u001b[38;5;124m\"\u001b[39m]})\u001b[38;5;241m.\u001b[39mjson()[\u001b[38;5;124m\"\u001b[39m\u001b[38;5;124mresults\u001b[39m\u001b[38;5;124m\"\u001b[39m] \u001b[38;5;28;01melse\u001b[39;00m \u001b[38;5;124m\"\u001b[39m\u001b[38;5;124m\"\u001b[39m,\n\u001b[0;32m     66\u001b[0m                \u001b[38;5;124m\"\u001b[39m\u001b[38;5;124m-\u001b[39m\u001b[38;5;124m\"\u001b[39m\u001b[38;5;241m.\u001b[39mjoin([genre[\u001b[38;5;124m\"\u001b[39m\u001b[38;5;124mname\u001b[39m\u001b[38;5;124m\"\u001b[39m] \u001b[38;5;28;01mfor\u001b[39;00m genre \u001b[38;5;129;01min\u001b[39;00m game[\u001b[38;5;124m\"\u001b[39m\u001b[38;5;124mgenres\u001b[39m\u001b[38;5;124m\"\u001b[39m]]) \u001b[38;5;28;01mif\u001b[39;00m game[\u001b[38;5;124m\"\u001b[39m\u001b[38;5;124mgenres\u001b[39m\u001b[38;5;124m\"\u001b[39m] \u001b[38;5;28;01melse\u001b[39;00m \u001b[38;5;124m\"\u001b[39m\u001b[38;5;124m\"\u001b[39m,\n\u001b[0;32m     67\u001b[0m                \u001b[38;5;124m\"\u001b[39m\u001b[38;5;124m-\u001b[39m\u001b[38;5;124m\"\u001b[39m\u001b[38;5;241m.\u001b[39mjoin([tag[\u001b[38;5;124m\"\u001b[39m\u001b[38;5;124mname\u001b[39m\u001b[38;5;124m\"\u001b[39m] \u001b[38;5;28;01mfor\u001b[39;00m tag \u001b[38;5;129;01min\u001b[39;00m game[\u001b[38;5;124m\"\u001b[39m\u001b[38;5;124mtags\u001b[39m\u001b[38;5;124m\"\u001b[39m]]) \u001b[38;5;28;01mif\u001b[39;00m game[\u001b[38;5;124m\"\u001b[39m\u001b[38;5;124mtags\u001b[39m\u001b[38;5;124m\"\u001b[39m] \u001b[38;5;28;01melse\u001b[39;00m \u001b[38;5;124m\"\u001b[39m\u001b[38;5;124m\"\u001b[39m,\n\u001b[0;32m     68\u001b[0m                game[\u001b[38;5;124m\"\u001b[39m\u001b[38;5;124mmetacritic\u001b[39m\u001b[38;5;124m\"\u001b[39m],\n\u001b[0;32m     69\u001b[0m                game[\u001b[38;5;124m\"\u001b[39m\u001b[38;5;124mplaytime\u001b[39m\u001b[38;5;124m\"\u001b[39m]])\n\u001b[0;32m     71\u001b[0m \u001b[38;5;66;03m# Put None into the queue for each thread to indicate that there is no more data\u001b[39;00m\n\u001b[0;32m     72\u001b[0m \u001b[38;5;28;01mfor\u001b[39;00m i \u001b[38;5;129;01min\u001b[39;00m \u001b[38;5;28mrange\u001b[39m(num_threads):\n",
      "\u001b[1;31mKeyError\u001b[0m: 'results'"
     ]
    }
   ],
   "source": [
    "start = time.time()\n",
    "\n",
    "# Set up the API call parameters\n",
    "url = \"https://api.rawg.io/api/games\"\n",
    "params = {\n",
    "    \"page\": 1,\n",
    "    \"page_size\": 40,\n",
    "    \"key\": \"de4c2cc9f2f0472492b8f58250c640c1\"\n",
    "}\n",
    "\n",
    "fields = [\"id\", \"name\", \"released\", \n",
    "          \"rating\", \n",
    "          \"platforms\", \"series\", \"genre\",\n",
    "          \"tags\",\"metacritic\",\"playtime\",]\n",
    "\n",
    "# Define a worker function that takes items from the queue and writes them to the CSV file\n",
    "def worker(q, file):\n",
    "    while True:\n",
    "        # Get an item from the queue\n",
    "        item = q.get()\n",
    "        # If the item is None, break the loop\n",
    "        if item is None:\n",
    "            break\n",
    "        # Otherwise, write the item to the file\n",
    "        writer = csv.writer(file)\n",
    "        writer.writerow(item)\n",
    "        # Indicate that the task is done\n",
    "        q.task_done()\n",
    "\n",
    "# Open the CSV file for writing\n",
    "with open(\"games.csv\", mode=\"w\", newline=\"\", encoding=\"utf-8\") as file:\n",
    "    # Create a CSV writer object\n",
    "    writer = csv.writer(file)\n",
    "\n",
    "    # Write the header row\n",
    "    writer.writerow(fields)\n",
    "\n",
    "    # Create a queue object\n",
    "    q = Queue()\n",
    "\n",
    "    # Create a list of threads\n",
    "    num_threads = 8 # You can adjust this number according to your needs\n",
    "    threads = []\n",
    "\n",
    "    # Start num_threads threads and add them to the list\n",
    "    for i in range(num_threads):\n",
    "        t = Thread(target=worker, args=(q, file))\n",
    "        t.start()\n",
    "        threads.append(t)\n",
    "\n",
    "    # Loop through the pages of the API results\n",
    "    for page in range(1, 250):\n",
    "        # Set the page parameter in the API call\n",
    "        params[\"page\"] = page\n",
    "\n",
    "        # Make the API call and get the JSON response\n",
    "        response = requests.get(url, params=params)\n",
    "        data = response.json()[\"results\"]\n",
    "        \n",
    "        # Put each game data into the queue as a list\n",
    "        for game in data:\n",
    "            q.put([game[\"id\"], game[\"name\"], game[\"released\"], \n",
    "                   game[\"rating\"], \n",
    "                   \"-\".join([platform[\"platform\"][\"name\"] for platform in game[\"platforms\"]]) if game[\"platforms\"] else \"\", \n",
    "                   \"-\".join([str(game_data[\"id\"]) for game_data in requests.get(f\"https://api.rawg.io/api/games/{game['id']}/game-series\", params={\"key\": params[\"key\"]}).json()[\"results\"]]) if requests.get(f\"https://api.rawg.io/api/games/{game['id']}/game-series\", params={\"key\": params[\"key\"]}).json()[\"results\"] else \"\",\n",
    "                   \"-\".join([genre[\"name\"] for genre in game[\"genres\"]]) if game[\"genres\"] else \"\",\n",
    "                   \"-\".join([tag[\"name\"] for tag in game[\"tags\"]]) if game[\"tags\"] else \"\",\n",
    "                   game[\"metacritic\"],\n",
    "                   game[\"playtime\"]])\n",
    "\n",
    "    # Put None into the queue for each thread to indicate that there is no more data\n",
    "    for i in range(num_threads):\n",
    "        q.put(None)\n",
    "\n",
    "    # Wait for all threads to finish\n",
    "    for t in threads:\n",
    "        t.join()\n",
    "        \n",
    "end = time.time()\n",
    "print(f\"Elapsed time: {end - start} seconds\")"
   ]
  },
  {
   "cell_type": "markdown",
   "id": "24ab4917",
   "metadata": {},
   "source": [
    "## "
   ]
  }
 ],
 "metadata": {
  "kernelspec": {
   "display_name": "Python 3 (ipykernel)",
   "language": "python",
   "name": "python3"
  },
  "language_info": {
   "codemirror_mode": {
    "name": "ipython",
    "version": 3
   },
   "file_extension": ".py",
   "mimetype": "text/x-python",
   "name": "python",
   "nbconvert_exporter": "python",
   "pygments_lexer": "ipython3",
   "version": "3.10.9"
  }
 },
 "nbformat": 4,
 "nbformat_minor": 5
}
