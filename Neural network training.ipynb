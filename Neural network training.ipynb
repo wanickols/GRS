{
 "cells": [
  {
   "cell_type": "code",
   "execution_count": 1,
   "id": "976087bb",
   "metadata": {},
   "outputs": [],
   "source": [
    "# Import modules\n",
    "import numpy as np\n",
    "import pandas as pd\n",
    "import tensorflow as tf\n",
    "from tensorflow.keras import Sequential\n",
    "from tensorflow.keras.layers import Dense\n",
    "from sklearn.model_selection import train_test_split\n",
    "from sklearn.preprocessing import LabelEncoder\n",
    "from keras.utils import np_utils\n",
    "from sklearn.metrics.pairwise import cosine_similarity\n",
    "from keras.layers import Normalization"
   ]
  },
  {
   "cell_type": "code",
   "execution_count": 2,
   "id": "5bec2889",
   "metadata": {},
   "outputs": [],
   "source": [
    "cosign_sim = np.load('cosine_sim_wpca.npy')\n",
    "df = pd.read_csv('clean_data.csv', sep=',')"
   ]
  },
  {
   "cell_type": "code",
   "execution_count": 3,
   "id": "5ce0a63f",
   "metadata": {},
   "outputs": [
    {
     "data": {
      "text/html": [
       "<div>\n",
       "<style scoped>\n",
       "    .dataframe tbody tr th:only-of-type {\n",
       "        vertical-align: middle;\n",
       "    }\n",
       "\n",
       "    .dataframe tbody tr th {\n",
       "        vertical-align: top;\n",
       "    }\n",
       "\n",
       "    .dataframe thead th {\n",
       "        text-align: right;\n",
       "    }\n",
       "</style>\n",
       "<table border=\"1\" class=\"dataframe\">\n",
       "  <thead>\n",
       "    <tr style=\"text-align: right;\">\n",
       "      <th></th>\n",
       "      <th>released</th>\n",
       "      <th>rating</th>\n",
       "      <th>playtime</th>\n",
       "      <th>Action</th>\n",
       "      <th>Adventure</th>\n",
       "      <th>Arcade</th>\n",
       "      <th>Board Games</th>\n",
       "      <th>Card</th>\n",
       "      <th>Casual</th>\n",
       "      <th>Educational</th>\n",
       "      <th>...</th>\n",
       "      <th>Web</th>\n",
       "      <th>Wii</th>\n",
       "      <th>Wii U</th>\n",
       "      <th>Xbox</th>\n",
       "      <th>Xbox 360</th>\n",
       "      <th>Xbox One</th>\n",
       "      <th>Xbox Series S/X</th>\n",
       "      <th>bit.1</th>\n",
       "      <th>iOS</th>\n",
       "      <th>macOS</th>\n",
       "    </tr>\n",
       "    <tr>\n",
       "      <th>name</th>\n",
       "      <th></th>\n",
       "      <th></th>\n",
       "      <th></th>\n",
       "      <th></th>\n",
       "      <th></th>\n",
       "      <th></th>\n",
       "      <th></th>\n",
       "      <th></th>\n",
       "      <th></th>\n",
       "      <th></th>\n",
       "      <th></th>\n",
       "      <th></th>\n",
       "      <th></th>\n",
       "      <th></th>\n",
       "      <th></th>\n",
       "      <th></th>\n",
       "      <th></th>\n",
       "      <th></th>\n",
       "      <th></th>\n",
       "      <th></th>\n",
       "      <th></th>\n",
       "    </tr>\n",
       "  </thead>\n",
       "  <tbody>\n",
       "    <tr>\n",
       "      <th>King Arthur's Gold</th>\n",
       "      <td>0.811938</td>\n",
       "      <td>0.596708</td>\n",
       "      <td>0.002222</td>\n",
       "      <td>1</td>\n",
       "      <td>0</td>\n",
       "      <td>0</td>\n",
       "      <td>0</td>\n",
       "      <td>0</td>\n",
       "      <td>0</td>\n",
       "      <td>0</td>\n",
       "      <td>...</td>\n",
       "      <td>0</td>\n",
       "      <td>0</td>\n",
       "      <td>0</td>\n",
       "      <td>0</td>\n",
       "      <td>0</td>\n",
       "      <td>0</td>\n",
       "      <td>0</td>\n",
       "      <td>0</td>\n",
       "      <td>0</td>\n",
       "      <td>1</td>\n",
       "    </tr>\n",
       "    <tr>\n",
       "      <th>Grand Theft Auto V</th>\n",
       "      <td>0.809502</td>\n",
       "      <td>0.919753</td>\n",
       "      <td>0.081111</td>\n",
       "      <td>1</td>\n",
       "      <td>1</td>\n",
       "      <td>0</td>\n",
       "      <td>0</td>\n",
       "      <td>0</td>\n",
       "      <td>0</td>\n",
       "      <td>0</td>\n",
       "      <td>...</td>\n",
       "      <td>0</td>\n",
       "      <td>0</td>\n",
       "      <td>0</td>\n",
       "      <td>0</td>\n",
       "      <td>1</td>\n",
       "      <td>1</td>\n",
       "      <td>1</td>\n",
       "      <td>0</td>\n",
       "      <td>0</td>\n",
       "      <td>0</td>\n",
       "    </tr>\n",
       "    <tr>\n",
       "      <th>The Witcher 3: Wild Hunt</th>\n",
       "      <td>0.840331</td>\n",
       "      <td>0.958848</td>\n",
       "      <td>0.051111</td>\n",
       "      <td>1</td>\n",
       "      <td>1</td>\n",
       "      <td>0</td>\n",
       "      <td>0</td>\n",
       "      <td>0</td>\n",
       "      <td>0</td>\n",
       "      <td>0</td>\n",
       "      <td>...</td>\n",
       "      <td>0</td>\n",
       "      <td>0</td>\n",
       "      <td>0</td>\n",
       "      <td>0</td>\n",
       "      <td>0</td>\n",
       "      <td>1</td>\n",
       "      <td>1</td>\n",
       "      <td>0</td>\n",
       "      <td>0</td>\n",
       "      <td>0</td>\n",
       "    </tr>\n",
       "    <tr>\n",
       "      <th>Portal 2</th>\n",
       "      <td>0.764731</td>\n",
       "      <td>0.950617</td>\n",
       "      <td>0.012222</td>\n",
       "      <td>0</td>\n",
       "      <td>0</td>\n",
       "      <td>0</td>\n",
       "      <td>0</td>\n",
       "      <td>0</td>\n",
       "      <td>0</td>\n",
       "      <td>0</td>\n",
       "      <td>...</td>\n",
       "      <td>0</td>\n",
       "      <td>0</td>\n",
       "      <td>0</td>\n",
       "      <td>0</td>\n",
       "      <td>1</td>\n",
       "      <td>1</td>\n",
       "      <td>0</td>\n",
       "      <td>0</td>\n",
       "      <td>0</td>\n",
       "      <td>1</td>\n",
       "    </tr>\n",
       "    <tr>\n",
       "      <th>Tomb Raider (2013)</th>\n",
       "      <td>0.799566</td>\n",
       "      <td>0.833333</td>\n",
       "      <td>0.011111</td>\n",
       "      <td>1</td>\n",
       "      <td>1</td>\n",
       "      <td>0</td>\n",
       "      <td>0</td>\n",
       "      <td>0</td>\n",
       "      <td>0</td>\n",
       "      <td>0</td>\n",
       "      <td>...</td>\n",
       "      <td>0</td>\n",
       "      <td>0</td>\n",
       "      <td>0</td>\n",
       "      <td>0</td>\n",
       "      <td>1</td>\n",
       "      <td>1</td>\n",
       "      <td>0</td>\n",
       "      <td>0</td>\n",
       "      <td>0</td>\n",
       "      <td>1</td>\n",
       "    </tr>\n",
       "  </tbody>\n",
       "</table>\n",
       "<p>5 rows × 1992 columns</p>\n",
       "</div>"
      ],
      "text/plain": [
       "                          released    rating  playtime  Action  Adventure  \\\n",
       "name                                                                        \n",
       "King Arthur's Gold        0.811938  0.596708  0.002222       1          0   \n",
       "Grand Theft Auto V        0.809502  0.919753  0.081111       1          1   \n",
       "The Witcher 3: Wild Hunt  0.840331  0.958848  0.051111       1          1   \n",
       "Portal 2                  0.764731  0.950617  0.012222       0          0   \n",
       "Tomb Raider (2013)        0.799566  0.833333  0.011111       1          1   \n",
       "\n",
       "                          Arcade  Board Games  Card  Casual  Educational  ...  \\\n",
       "name                                                                      ...   \n",
       "King Arthur's Gold             0            0     0       0            0  ...   \n",
       "Grand Theft Auto V             0            0     0       0            0  ...   \n",
       "The Witcher 3: Wild Hunt       0            0     0       0            0  ...   \n",
       "Portal 2                       0            0     0       0            0  ...   \n",
       "Tomb Raider (2013)             0            0     0       0            0  ...   \n",
       "\n",
       "                          Web  Wii  Wii U  Xbox  Xbox 360  Xbox One  \\\n",
       "name                                                                  \n",
       "King Arthur's Gold          0    0      0     0         0         0   \n",
       "Grand Theft Auto V          0    0      0     0         1         1   \n",
       "The Witcher 3: Wild Hunt    0    0      0     0         0         1   \n",
       "Portal 2                    0    0      0     0         1         1   \n",
       "Tomb Raider (2013)          0    0      0     0         1         1   \n",
       "\n",
       "                          Xbox Series S/X  bit.1  iOS  macOS  \n",
       "name                                                          \n",
       "King Arthur's Gold                      0      0    0      1  \n",
       "Grand Theft Auto V                      1      0    0      0  \n",
       "The Witcher 3: Wild Hunt                1      0    0      0  \n",
       "Portal 2                                0      0    0      1  \n",
       "Tomb Raider (2013)                      0      0    0      1  \n",
       "\n",
       "[5 rows x 1992 columns]"
      ]
     },
     "execution_count": 3,
     "metadata": {},
     "output_type": "execute_result"
    }
   ],
   "source": [
    "df = df.set_index('name')\n",
    "df = df.drop(['series'], axis=1)\n",
    "df = df.drop(['id'], axis=1)\n",
    "df.head()"
   ]
  },
  {
   "cell_type": "code",
   "execution_count": 4,
   "id": "d5e6a9c1",
   "metadata": {},
   "outputs": [],
   "source": [
    "train_set, test_set = train_test_split(df, test_size=0.2, random_state=42)"
   ]
  },
  {
   "cell_type": "code",
   "execution_count": 5,
   "id": "8417bb54",
   "metadata": {},
   "outputs": [],
   "source": [
    "cols = list(df.columns)\n",
    "#print(cols)"
   ]
  },
  {
   "cell_type": "code",
   "execution_count": 7,
   "id": "7bc42e68",
   "metadata": {},
   "outputs": [],
   "source": [
    "model = Sequential() \n",
    "model.add(Dense(256, activation='sigmoid', input_shape=(1992,)))\n",
    "model.add(Dense(128, activation='relu')) \n",
    "model.add(Dense(32, activation='relu')) \n",
    "model.add(Dense(8, activation='sigmoid'))\n",
    "model.add(Dense(1992))"
   ]
  },
  {
   "cell_type": "code",
   "execution_count": 8,
   "id": "6f2277d5",
   "metadata": {},
   "outputs": [
    {
     "name": "stdout",
     "output_type": "stream",
     "text": [
      "Epoch 1/8\n",
      "246/246 [==============================] - 3s 9ms/step - loss: 0.0074\n",
      "Epoch 2/8\n",
      "246/246 [==============================] - 2s 9ms/step - loss: 0.0067\n",
      "Epoch 3/8\n",
      "246/246 [==============================] - 2s 9ms/step - loss: 0.0063\n",
      "Epoch 4/8\n",
      "246/246 [==============================] - 2s 6ms/step - loss: 0.0060\n",
      "Epoch 5/8\n",
      "246/246 [==============================] - 2s 8ms/step - loss: 0.0058\n",
      "Epoch 6/8\n",
      "246/246 [==============================] - 2s 9ms/step - loss: 0.0056\n",
      "Epoch 7/8\n",
      "246/246 [==============================] - 2s 8ms/step - loss: 0.0055\n",
      "Epoch 8/8\n",
      "246/246 [==============================] - 2s 8ms/step - loss: 0.0053\n"
     ]
    },
    {
     "data": {
      "text/plain": [
       "<keras.callbacks.History at 0x15e53461480>"
      ]
     },
     "execution_count": 8,
     "metadata": {},
     "output_type": "execute_result"
    }
   ],
   "source": [
    "model.compile(optimizer='adam', loss='mse') \n",
    "model.fit(train_set[cols], train_set[cols], epochs=8, batch_size=32)\n"
   ]
  },
  {
   "cell_type": "code",
   "execution_count": 9,
   "id": "8fcec0de",
   "metadata": {},
   "outputs": [
    {
     "name": "stdout",
     "output_type": "stream",
     "text": [
      "307/307 [==============================] - 1s 2ms/step\n"
     ]
    }
   ],
   "source": [
    "latent_factors = model.predict(df[cols])"
   ]
  },
  {
   "cell_type": "code",
   "execution_count": 33,
   "id": "2e3707bc",
   "metadata": {},
   "outputs": [],
   "source": [
    "# alpha is a hyperparameter that controls weight of cosign vs latent\n",
    "# cosign(0) vs latent(1) weight\n",
    "alpha = .4\n"
   ]
  },
  {
   "cell_type": "code",
   "execution_count": 34,
   "id": "ede25a28",
   "metadata": {},
   "outputs": [],
   "source": [
    "latent_sim = cosine_similarity(latent_factors)\n",
    "hybrid_sim = alpha * latent_sim + (1 - alpha) * cosign_sim"
   ]
  },
  {
   "cell_type": "code",
   "execution_count": 22,
   "id": "9152bdbd",
   "metadata": {},
   "outputs": [],
   "source": [
    "def get_recommendations(title, k):\n",
    "    idx = df.index.get_loc(title)\n",
    "    sim_scores = hybrid_sim[idx]\n",
    "    sim_indices = sim_scores.argsort()[-k:][::-1]\n",
    "    sim_titles = df.iloc[sim_indices].index\n",
    "    return list(sim_titles)"
   ]
  },
  {
   "cell_type": "code",
   "execution_count": 26,
   "id": "c8a5360a",
   "metadata": {},
   "outputs": [],
   "source": [
    "recommendation = \"Lego City Undercover\""
   ]
  },
  {
   "cell_type": "code",
   "execution_count": 35,
   "id": "a81097aa",
   "metadata": {},
   "outputs": [
    {
     "data": {
      "text/plain": [
       "['Lego City Undercover',\n",
       " 'LEGO Marvel Super Heroes 2',\n",
       " 'LEGO Worlds',\n",
       " 'LEGO Marvel Super Heroes',\n",
       " 'LEGO Jurassic World',\n",
       " 'LEGO Batman 3: Beyond Gotham',\n",
       " 'LEGO The Hobbit',\n",
       " 'LEGO The Incredibles',\n",
       " 'The LEGO Movie - Videogame',\n",
       " \"LEGO Marvel's Avengers\",\n",
       " 'Just Die Already',\n",
       " 'LEGO Batman 2 DC Super Heroes',\n",
       " 'Ben 10: Power Trip',\n",
       " 'Saints Row: The Third Remastered',\n",
       " 'River City Girls',\n",
       " 'LEGO DC Super-Villains',\n",
       " 'LEGO Star Wars: The Force Awakens',\n",
       " 'Overlord: Fellowship of Evil',\n",
       " 'Think of the Children',\n",
       " 'Darksiders Genesis',\n",
       " 'Unravel Two',\n",
       " 'ToeJam & Earl: Back in the Groove',\n",
       " 'Tools Up!',\n",
       " 'Scribblenauts Unmasked: A DC Comics Adventure',\n",
       " 'Saints Row IV']"
      ]
     },
     "execution_count": 35,
     "metadata": {},
     "output_type": "execute_result"
    }
   ],
   "source": [
    "get_recommendations(recommendation, 25)"
   ]
  },
  {
   "cell_type": "code",
   "execution_count": 29,
   "id": "437450c4",
   "metadata": {},
   "outputs": [
    {
     "data": {
      "text/plain": [
       "['Lego City Undercover',\n",
       " 'LEGO Marvel Super Heroes 2',\n",
       " 'LEGO Marvel Super Heroes',\n",
       " 'LEGO Jurassic World',\n",
       " 'LEGO The Hobbit',\n",
       " 'The LEGO Movie - Videogame',\n",
       " 'LEGO The Incredibles',\n",
       " 'LEGO Batman 3: Beyond Gotham',\n",
       " 'LEGO Worlds',\n",
       " \"LEGO Marvel's Avengers\",\n",
       " 'LEGO Batman 2 DC Super Heroes',\n",
       " 'River City Girls',\n",
       " 'Just Die Already',\n",
       " 'LEGO DC Super-Villains',\n",
       " 'Ben 10: Power Trip',\n",
       " 'Saints Row: The Third Remastered',\n",
       " 'Unravel Two',\n",
       " 'LEGO Star Wars: The Force Awakens',\n",
       " 'SpongeBob SquarePants: Battle for Bikini Bottom — Rehydrated',\n",
       " 'Guns, Gore and Cannoli 2',\n",
       " 'ToeJam & Earl: Back in the Groove',\n",
       " 'LEGO Star Wars - The Complete Saga',\n",
       " 'Trine 4: The Nightmare Prince',\n",
       " 'Think of the Children',\n",
       " 'Totally Reliable Delivery Service']"
      ]
     },
     "execution_count": 29,
     "metadata": {},
     "output_type": "execute_result"
    }
   ],
   "source": [
    "get_recommendations(recommendation, 25)"
   ]
  },
  {
   "cell_type": "code",
   "execution_count": 32,
   "id": "757b9201",
   "metadata": {},
   "outputs": [
    {
     "data": {
      "text/plain": [
       "['Lego City Undercover',\n",
       " 'LEGO Marvel Super Heroes',\n",
       " 'LEGO Jurassic World',\n",
       " 'Nongunz: Doppelganger Edition',\n",
       " 'Unravel Two',\n",
       " 'SpongeBob SquarePants: Battle for Bikini Bottom — Rehydrated',\n",
       " 'Trine 4: The Nightmare Prince',\n",
       " \"LEGO Marvel's Avengers\",\n",
       " 'LEGO The Hobbit',\n",
       " 'LEGO Marvel Super Heroes 2',\n",
       " 'Stubbs the Zombie in Rebel Without a Pulse',\n",
       " 'The LEGO Movie - Videogame',\n",
       " 'Guns, Gore and Cannoli 2',\n",
       " 'LEGO The Incredibles',\n",
       " 'LEGO Star Wars - The Complete Saga',\n",
       " 'Balan Wonderworld',\n",
       " 'Strange Brigade',\n",
       " 'River City Girls',\n",
       " 'Super Monkey Ball: Banana Mania',\n",
       " 'Speed Brawl',\n",
       " 'LEGO DC Super-Villains',\n",
       " 'Sniper Elite V2 Remastered',\n",
       " 'Cuphead',\n",
       " 'GRID Legends',\n",
       " 'Totally Reliable Delivery Service']"
      ]
     },
     "execution_count": 32,
     "metadata": {},
     "output_type": "execute_result"
    }
   ],
   "source": [
    "get_recommendations(recommendation, 25)"
   ]
  },
  {
   "cell_type": "code",
   "execution_count": null,
   "id": "007f2d46",
   "metadata": {},
   "outputs": [],
   "source": []
  }
 ],
 "metadata": {
  "kernelspec": {
   "display_name": "Python 3 (ipykernel)",
   "language": "python",
   "name": "python3"
  },
  "language_info": {
   "codemirror_mode": {
    "name": "ipython",
    "version": 3
   },
   "file_extension": ".py",
   "mimetype": "text/x-python",
   "name": "python",
   "nbconvert_exporter": "python",
   "pygments_lexer": "ipython3",
   "version": "3.10.9"
  }
 },
 "nbformat": 4,
 "nbformat_minor": 5
}
